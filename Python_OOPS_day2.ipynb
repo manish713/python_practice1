{
  "nbformat": 4,
  "nbformat_minor": 0,
  "metadata": {
    "colab": {
      "provenance": [],
      "gpuType": "T4"
    },
    "kernelspec": {
      "name": "python3",
      "display_name": "Python 3"
    },
    "language_info": {
      "name": "python"
    },
    "accelerator": "GPU"
  },
  "cells": [
    {
      "cell_type": "code",
      "execution_count": null,
      "metadata": {
        "id": "hxIpw9fAQpDR"
      },
      "outputs": [],
      "source": [
        "class test:\n",
        "  def meth1(self):\n",
        "    return \"this is my first method\""
      ]
    },
    {
      "cell_type": "code",
      "source": [
        "a = test()"
      ],
      "metadata": {
        "id": "8lg2meUDC-_3"
      },
      "execution_count": null,
      "outputs": []
    },
    {
      "cell_type": "code",
      "source": [
        "a.meth1()"
      ],
      "metadata": {
        "colab": {
          "base_uri": "https://localhost:8080/",
          "height": 36
        },
        "id": "DEQeqA0PDAFO",
        "outputId": "aa543006-7560-42df-dabc-747043543c84"
      },
      "execution_count": null,
      "outputs": [
        {
          "output_type": "execute_result",
          "data": {
            "text/plain": [
              "'this is my first method'"
            ],
            "application/vnd.google.colaboratory.intrinsic+json": {
              "type": "string"
            }
          },
          "metadata": {},
          "execution_count": 6
        }
      ]
    },
    {
      "cell_type": "code",
      "source": [
        "# calling method without creating an object\n",
        "\n",
        "class test1 :\n",
        "  @staticmethod\n",
        "  def meth1():\n",
        "    return \"this is a meht you can access without creating an object\"\n",
        "\n",
        "  def meth2(self):\n",
        "    return \"this is a meth without static\""
      ],
      "metadata": {
        "id": "3JAh9aaXDA69"
      },
      "execution_count": null,
      "outputs": []
    },
    {
      "cell_type": "code",
      "source": [
        "b = test1()"
      ],
      "metadata": {
        "id": "2jkzLodlE3IU"
      },
      "execution_count": null,
      "outputs": []
    },
    {
      "cell_type": "code",
      "source": [
        "b.meth1()"
      ],
      "metadata": {
        "colab": {
          "base_uri": "https://localhost:8080/",
          "height": 36
        },
        "id": "C4l9j7PdE8ek",
        "outputId": "8167cd34-831b-492a-9ffe-a1a6953c78d2"
      },
      "execution_count": null,
      "outputs": [
        {
          "output_type": "execute_result",
          "data": {
            "text/plain": [
              "'this is a meht you can access without creating an object'"
            ],
            "application/vnd.google.colaboratory.intrinsic+json": {
              "type": "string"
            }
          },
          "metadata": {},
          "execution_count": 13
        }
      ]
    },
    {
      "cell_type": "code",
      "source": [
        "b.meth2()"
      ],
      "metadata": {
        "colab": {
          "base_uri": "https://localhost:8080/",
          "height": 36
        },
        "id": "PeVT5fORE9rl",
        "outputId": "d0a03446-3aae-4938-f200-40d8a0ee8a95"
      },
      "execution_count": null,
      "outputs": [
        {
          "output_type": "execute_result",
          "data": {
            "text/plain": [
              "'this is a meth without static'"
            ],
            "application/vnd.google.colaboratory.intrinsic+json": {
              "type": "string"
            }
          },
          "metadata": {},
          "execution_count": 14
        }
      ]
    },
    {
      "cell_type": "code",
      "source": [
        "test1.meth1()"
      ],
      "metadata": {
        "colab": {
          "base_uri": "https://localhost:8080/",
          "height": 36
        },
        "id": "u0FPyc4qFAD8",
        "outputId": "595bdee3-70c1-4c15-c1ea-5bd64de2aad0"
      },
      "execution_count": null,
      "outputs": [
        {
          "output_type": "execute_result",
          "data": {
            "text/plain": [
              "'this is a meht you can access without creating an object'"
            ],
            "application/vnd.google.colaboratory.intrinsic+json": {
              "type": "string"
            }
          },
          "metadata": {},
          "execution_count": 15
        }
      ]
    },
    {
      "cell_type": "code",
      "source": [
        "class test2:\n",
        "  def __init__(self , a,b,c):\n",
        "    self.a = a\n",
        "    self.b = b\n",
        "    self.c = c\n",
        "\n",
        "  def meth1(self):\n",
        "    return \"this is my meht 1\"\n",
        "\n",
        "  def meth2(self, n):\n",
        "    return n\n",
        "\n",
        "  def meth3(self, m):\n",
        "    return m"
      ],
      "metadata": {
        "id": "6nUKO9JsI4AL"
      },
      "execution_count": null,
      "outputs": []
    },
    {
      "cell_type": "code",
      "source": [
        "a_test2 = test2(\"manish\", 24, \"bisht\")"
      ],
      "metadata": {
        "id": "pDxT8ZcwJkXq"
      },
      "execution_count": null,
      "outputs": []
    },
    {
      "cell_type": "code",
      "source": [
        "b_test2 = test2(\"gitesh\", 31, \"gawai\")"
      ],
      "metadata": {
        "id": "o67gNZmTJpFG"
      },
      "execution_count": null,
      "outputs": []
    },
    {
      "cell_type": "code",
      "source": [
        "c_test2 = test2(\"annu\", 33, \"rana\")"
      ],
      "metadata": {
        "id": "I7MK1qJmJt1v"
      },
      "execution_count": null,
      "outputs": []
    },
    {
      "cell_type": "markdown",
      "source": [
        "# Inheritance ..."
      ],
      "metadata": {
        "id": "FfAI4s4QKV_B"
      }
    },
    {
      "cell_type": "code",
      "source": [
        "class Parent1:\n",
        "\n",
        "  def parent_meth(self):\n",
        "    return \"this is parent1 method\"\n",
        "\n",
        "class Parent2:\n",
        "\n",
        "  def parent_meth2(self):\n",
        "    return \"this is a parent meth2\"\n",
        "\n",
        "class Parent3:\n",
        "\n",
        "  def Parent_meth3(self):\n",
        "    return \"this is a parent meth3\"\n",
        "\n",
        "\n",
        "\n",
        "class Child(Parent1, Parent2, Parent3):\n",
        "\n",
        "  def child_meth(self):\n",
        "    return \"this is my child\""
      ],
      "metadata": {
        "id": "0JZrUs16J7Tr"
      },
      "execution_count": null,
      "outputs": []
    },
    {
      "cell_type": "code",
      "source": [
        "var_child = Child()"
      ],
      "metadata": {
        "id": "y7qkboKGLGbj"
      },
      "execution_count": null,
      "outputs": []
    },
    {
      "cell_type": "code",
      "source": [
        "var_child.parent_meth()"
      ],
      "metadata": {
        "colab": {
          "base_uri": "https://localhost:8080/",
          "height": 36
        },
        "id": "9Gc2CENtMgRM",
        "outputId": "993c94be-2355-4230-d18d-092ffa306735"
      },
      "execution_count": null,
      "outputs": [
        {
          "output_type": "execute_result",
          "data": {
            "text/plain": [
              "'this is parent1 method'"
            ],
            "application/vnd.google.colaboratory.intrinsic+json": {
              "type": "string"
            }
          },
          "metadata": {},
          "execution_count": 51
        }
      ]
    },
    {
      "cell_type": "code",
      "source": [
        "var_child.parent_meth2()"
      ],
      "metadata": {
        "colab": {
          "base_uri": "https://localhost:8080/",
          "height": 36
        },
        "id": "FTDcRUGbMpQi",
        "outputId": "54509329-fadf-4a6b-8538-282bfdecef34"
      },
      "execution_count": null,
      "outputs": [
        {
          "output_type": "execute_result",
          "data": {
            "text/plain": [
              "'this is a parent meth2'"
            ],
            "application/vnd.google.colaboratory.intrinsic+json": {
              "type": "string"
            }
          },
          "metadata": {},
          "execution_count": 52
        }
      ]
    },
    {
      "cell_type": "code",
      "source": [
        "var_child.Parent_meth3()"
      ],
      "metadata": {
        "colab": {
          "base_uri": "https://localhost:8080/",
          "height": 36
        },
        "id": "QPf6_fRTMtZL",
        "outputId": "f86d6b00-e254-4e73-d75a-54c8a681a323"
      },
      "execution_count": null,
      "outputs": [
        {
          "output_type": "execute_result",
          "data": {
            "text/plain": [
              "'this is a parent meth3'"
            ],
            "application/vnd.google.colaboratory.intrinsic+json": {
              "type": "string"
            }
          },
          "metadata": {},
          "execution_count": 53
        }
      ]
    },
    {
      "cell_type": "code",
      "source": [
        "#multilevel inheritance\n",
        "\n",
        "class Class1:\n",
        "\n",
        "  def class1_meth(self):\n",
        "    return \"class1 meth\"\n",
        "\n",
        "class Class2(Class1):\n",
        "  pass\n",
        "\n",
        "class Class3(Class2):\n",
        "\n",
        "  def class3_meth(self):\n",
        "    return \"this is my class3\""
      ],
      "metadata": {
        "id": "IhkhIk5LNNC1"
      },
      "execution_count": null,
      "outputs": []
    },
    {
      "cell_type": "code",
      "source": [
        "var_class3 = Class3()"
      ],
      "metadata": {
        "id": "VQVDT9U1T_po"
      },
      "execution_count": null,
      "outputs": []
    },
    {
      "cell_type": "code",
      "source": [
        "var_class3.class1_meth()"
      ],
      "metadata": {
        "colab": {
          "base_uri": "https://localhost:8080/",
          "height": 36
        },
        "id": "jyfpyR-hUCKo",
        "outputId": "3d888fe0-6a2e-49e2-86b4-90fef57a9232"
      },
      "execution_count": null,
      "outputs": [
        {
          "output_type": "execute_result",
          "data": {
            "text/plain": [
              "'class1 meth'"
            ],
            "application/vnd.google.colaboratory.intrinsic+json": {
              "type": "string"
            }
          },
          "metadata": {},
          "execution_count": 57
        }
      ]
    },
    {
      "cell_type": "code",
      "source": [
        "# method overriding\n",
        "\n",
        "class test5:\n",
        "  def test(self):\n",
        "    return \"this is my test meth\"\n",
        "\n",
        "class test6:\n",
        "  def test(self):\n",
        "    return \"this is my meth from class test6 called test\"\n",
        "\n",
        "class test7(test5):\n",
        "  def test(self):\n",
        "    return \"this is my test from test7\""
      ],
      "metadata": {
        "id": "aG_nLrkZUNnf"
      },
      "execution_count": null,
      "outputs": []
    },
    {
      "cell_type": "code",
      "source": [
        "var_classtest7 = test7()"
      ],
      "metadata": {
        "id": "yy4bt-eSUdRZ"
      },
      "execution_count": null,
      "outputs": []
    },
    {
      "cell_type": "code",
      "source": [
        "var_classtest7.test()"
      ],
      "metadata": {
        "colab": {
          "base_uri": "https://localhost:8080/",
          "height": 36
        },
        "id": "lPmvLHhzUon1",
        "outputId": "7fa3656d-ad49-407c-cee2-b197aa6f767a"
      },
      "execution_count": null,
      "outputs": [
        {
          "output_type": "execute_result",
          "data": {
            "text/plain": [
              "'this is my test from test7'"
            ],
            "application/vnd.google.colaboratory.intrinsic+json": {
              "type": "string"
            }
          },
          "metadata": {},
          "execution_count": 62
        }
      ]
    },
    {
      "cell_type": "code",
      "source": [
        "## over loading\n",
        "\n",
        "class test8:\n",
        "\n",
        "  def test(self, c = 5, b = 4, d = 7):\n",
        "    return c,b,d"
      ],
      "metadata": {
        "id": "oGbHkCWJUvf9"
      },
      "execution_count": null,
      "outputs": []
    },
    {
      "cell_type": "code",
      "source": [
        "var_test8 = test8()"
      ],
      "metadata": {
        "id": "jAkAMkVdVipE"
      },
      "execution_count": null,
      "outputs": []
    },
    {
      "cell_type": "code",
      "source": [
        "var_test8.test()"
      ],
      "metadata": {
        "colab": {
          "base_uri": "https://localhost:8080/"
        },
        "id": "0KqpyZK_VlTi",
        "outputId": "7d0d5ab6-a2e9-4527-f429-d9edaa7d5ec3"
      },
      "execution_count": null,
      "outputs": [
        {
          "output_type": "execute_result",
          "data": {
            "text/plain": [
              "(5, 4, 7)"
            ]
          },
          "metadata": {},
          "execution_count": 66
        }
      ]
    },
    {
      "cell_type": "code",
      "source": [
        "var_test8.test(\"mani\")"
      ],
      "metadata": {
        "colab": {
          "base_uri": "https://localhost:8080/"
        },
        "id": "QqazHJ1iVr_u",
        "outputId": "f1ca9512-fc80-40fa-f202-de1f2dc91560"
      },
      "execution_count": null,
      "outputs": [
        {
          "output_type": "execute_result",
          "data": {
            "text/plain": [
              "('mani', 4, 7)"
            ]
          },
          "metadata": {},
          "execution_count": 67
        }
      ]
    },
    {
      "cell_type": "code",
      "source": [
        "var_test8.test(\"mani\", \"bisht\")"
      ],
      "metadata": {
        "colab": {
          "base_uri": "https://localhost:8080/"
        },
        "id": "iJM-nLcTV3jd",
        "outputId": "130f788b-596a-45b5-a075-56a05638804f"
      },
      "execution_count": null,
      "outputs": [
        {
          "output_type": "execute_result",
          "data": {
            "text/plain": [
              "('mani', 'bisht', 7)"
            ]
          },
          "metadata": {},
          "execution_count": 68
        }
      ]
    },
    {
      "cell_type": "markdown",
      "source": [
        "#polymorphism\n",
        "\n",
        "- The word polymorphism is derived from Greek and means \"having multiple forms.\""
      ],
      "metadata": {
        "id": "AzQw2S6ZbIyY"
      }
    },
    {
      "cell_type": "code",
      "source": [
        "def test(a,b):\n",
        "  return a+b"
      ],
      "metadata": {
        "id": "KrEwkXEdV8y3"
      },
      "execution_count": null,
      "outputs": []
    },
    {
      "cell_type": "code",
      "source": [
        "test(3,3)"
      ],
      "metadata": {
        "colab": {
          "base_uri": "https://localhost:8080/"
        },
        "id": "-pXk5vIebF9r",
        "outputId": "69cf3b8d-4304-4112-dc4b-ed69af9f9d10"
      },
      "execution_count": null,
      "outputs": [
        {
          "output_type": "execute_result",
          "data": {
            "text/plain": [
              "6"
            ]
          },
          "metadata": {},
          "execution_count": 70
        }
      ]
    },
    {
      "cell_type": "code",
      "source": [
        "test(\"manish\", \" bisht\")"
      ],
      "metadata": {
        "colab": {
          "base_uri": "https://localhost:8080/",
          "height": 36
        },
        "id": "2w96eYTJbG_j",
        "outputId": "71ac8008-2de0-4773-9baa-8c4f58fb078e"
      },
      "execution_count": null,
      "outputs": [
        {
          "output_type": "execute_result",
          "data": {
            "text/plain": [
              "'manish bisht'"
            ],
            "application/vnd.google.colaboratory.intrinsic+json": {
              "type": "string"
            }
          },
          "metadata": {},
          "execution_count": 72
        }
      ]
    },
    {
      "cell_type": "code",
      "source": [
        "class test1 :\n",
        "  def test(self) :\n",
        "    return \"this is my meth from test1\"\n",
        "\n",
        "class test2:\n",
        "\n",
        "  def test(self):\n",
        "    return \"this is my meth from test2\"\n",
        "\n",
        "class test3:\n",
        "  def test(self):\n",
        "    return \"this is my meth from test3\""
      ],
      "metadata": {
        "id": "bDOOD2NCbRtN"
      },
      "execution_count": null,
      "outputs": []
    },
    {
      "cell_type": "code",
      "source": [
        "var_class = [test1(), test2(), test3()]"
      ],
      "metadata": {
        "id": "8sAATwQZfHQx"
      },
      "execution_count": null,
      "outputs": []
    },
    {
      "cell_type": "code",
      "source": [
        "for i in var_class:\n",
        "  print(i.test())"
      ],
      "metadata": {
        "colab": {
          "base_uri": "https://localhost:8080/"
        },
        "id": "eyeW4RTcfdBL",
        "outputId": "0d5d8291-0d7a-4fde-a81b-c4ce19b5d195"
      },
      "execution_count": null,
      "outputs": [
        {
          "output_type": "stream",
          "name": "stdout",
          "text": [
            "this is my meth from test1\n",
            "this is my meth from test2\n",
            "this is my meth from test3\n"
          ]
        }
      ]
    },
    {
      "cell_type": "code",
      "source": [
        "def read():\n",
        "  try:\n",
        "\n",
        "    with open(\"test.txt\", \"r\") as file:\n",
        "      data = file.read()\n",
        "      return data\n",
        "\n",
        "  except FileNotFoundError as e:\n",
        "    print(e)"
      ],
      "metadata": {
        "id": "I0p5q5emflgE"
      },
      "execution_count": null,
      "outputs": []
    },
    {
      "cell_type": "code",
      "source": [
        "read()"
      ],
      "metadata": {
        "colab": {
          "base_uri": "https://localhost:8080/"
        },
        "id": "W8tYq1axiyTH",
        "outputId": "b2c79b2e-c043-4aaf-8ee8-a726cea6294c"
      },
      "execution_count": null,
      "outputs": [
        {
          "output_type": "stream",
          "name": "stdout",
          "text": [
            "[Errno 2] No such file or directory: 'test.txt'\n"
          ]
        }
      ]
    },
    {
      "cell_type": "code",
      "source": [
        "def write():\n",
        "  with open(\"test.txt\", \"w\") as file:\n",
        "    data = file.write(\"this is my data for file 'test.txt' \")"
      ],
      "metadata": {
        "id": "WTLI9zCYjOIV"
      },
      "execution_count": null,
      "outputs": []
    },
    {
      "cell_type": "code",
      "source": [
        "write()"
      ],
      "metadata": {
        "id": "hCKDePOYjvlT"
      },
      "execution_count": null,
      "outputs": []
    },
    {
      "cell_type": "code",
      "source": [
        "class file :\n",
        "  def read(self):\n",
        "    try:\n",
        "      with open(\"test.txt\", \"r\") as file:\n",
        "        data = file.read()\n",
        "        return data\n",
        "\n",
        "    except FileNotFoundError as e:\n",
        "      print(e)\n",
        "\n",
        "  def write(self, data1):\n",
        "    try:\n",
        "\n",
        "      with open(\"test.txt\", \"a\") as file:\n",
        "        data = file.write(data1)\n",
        "\n",
        "    except Exception as e:\n",
        "        print(e)"
      ],
      "metadata": {
        "id": "T5Rm35ISkCpN"
      },
      "execution_count": null,
      "outputs": []
    },
    {
      "cell_type": "code",
      "source": [
        "file_obj = file()\n",
        "file_obj.read()"
      ],
      "metadata": {
        "colab": {
          "base_uri": "https://localhost:8080/",
          "height": 36
        },
        "id": "CebLoh_DlQx6",
        "outputId": "edd46992-aa4e-4d08-bb5e-20fa20314f10"
      },
      "execution_count": null,
      "outputs": [
        {
          "output_type": "execute_result",
          "data": {
            "text/plain": [
              "'data to be writtendata to be written data to be written '"
            ],
            "application/vnd.google.colaboratory.intrinsic+json": {
              "type": "string"
            }
          },
          "metadata": {},
          "execution_count": 40
        }
      ]
    },
    {
      "cell_type": "markdown",
      "source": [
        "# Logging"
      ],
      "metadata": {
        "id": "s54ZKsZVcUpF"
      }
    },
    {
      "cell_type": "code",
      "source": [
        "file_obj.write(\"data to be written \")"
      ],
      "metadata": {
        "id": "PVeCbwyDmG-x"
      },
      "execution_count": null,
      "outputs": []
    },
    {
      "cell_type": "code",
      "source": [
        "import logging\n",
        "logging.basicConfig(filename='file_class.log', level = logging.DEBUG, filemode = 'w', format =\"%(asctime)s %(message)s\")\n",
        "\n",
        "class file :\n",
        "  def __init__(self, filename):\n",
        "    self.filename = filename\n",
        "\n",
        "\n",
        "  def read(self):\n",
        "    logging.info(\"this is start of read operation\")\n",
        "    try:\n",
        "      logging.info(\"i am inside try block of read method\")\n",
        "      with open(self.filename, \"r\") as file:\n",
        "        data = file.read()\n",
        "        logging.info(\"i am able to read the file\")\n",
        "        return data\n",
        "\n",
        "    except FileNotFoundError as e:\n",
        "      #print(e)\n",
        "      logging.error(\"there is some isssue with the read file operation\")\n",
        "      logging.error(e)\n",
        "\n",
        "  def write(self, data1):\n",
        "    try:\n",
        "\n",
        "      with open(self.filename, \"a\") as file:\n",
        "        data = file.write(data1)\n",
        "\n",
        "    except Exception as e:\n",
        "        print(e)"
      ],
      "metadata": {
        "id": "-BWMqUQWmRLg"
      },
      "execution_count": 1,
      "outputs": []
    },
    {
      "cell_type": "code",
      "source": [
        "file_obj = file(\"test1.txt\")\n",
        "file_obj.read()"
      ],
      "metadata": {
        "colab": {
          "base_uri": "https://localhost:8080/"
        },
        "id": "Hp-A5dTTk2g3",
        "outputId": "f38fab31-c522-4319-9b47-2bba2069f9b4"
      },
      "execution_count": 2,
      "outputs": [
        {
          "output_type": "stream",
          "name": "stderr",
          "text": [
            "ERROR:root:there is some isssue with the read file operation\n",
            "ERROR:root:[Errno 2] No such file or directory: 'test1.txt'\n"
          ]
        }
      ]
    },
    {
      "cell_type": "code",
      "source": [
        "file_obj.write(\"this is my data to be written inside my file\")"
      ],
      "metadata": {
        "id": "KhGnSqVElFoq"
      },
      "execution_count": 3,
      "outputs": []
    },
    {
      "cell_type": "code",
      "source": [],
      "metadata": {
        "id": "h-JScMM5lRpX"
      },
      "execution_count": null,
      "outputs": []
    }
  ]
}