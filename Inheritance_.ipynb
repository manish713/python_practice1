{
  "nbformat": 4,
  "nbformat_minor": 0,
  "metadata": {
    "colab": {
      "provenance": []
    },
    "kernelspec": {
      "name": "python3",
      "display_name": "Python 3"
    },
    "language_info": {
      "name": "python"
    }
  },
  "cells": [
    {
      "cell_type": "markdown",
      "source": [
        "- Parent class - to inherit the property of parent class is called inheritance.\n",
        "\n",
        "- Types of inheritance\n",
        "1. Single inheritance\n",
        "2. Multiple inheritance\n",
        "3. Multilevel inheritance\n",
        "4. Hieraichal inheritance\n",
        "5. Hybrid inheritance\n",
        "\n",
        "\n",
        "\n",
        "Parent class:\n",
        "\n",
        "\n",
        "child class(Parent class):\n",
        "    ------>>>\n",
        "    ------>>>\n",
        "\n"
      ],
      "metadata": {
        "id": "cQaLCUUfLXx6"
      }
    },
    {
      "cell_type": "markdown",
      "source": [
        "# Single Inheritance\n",
        "\n",
        "## 1 parent class and 1 child class"
      ],
      "metadata": {
        "id": "vijiPaIeM4so"
      }
    },
    {
      "cell_type": "code",
      "source": [
        "class Parent:\n",
        "  def func1(self):\n",
        "    print(\"hello from parent class\")\n",
        "\n",
        "class child(Parent):\n",
        "  def func2(self):\n",
        "    print(\"hello child\")"
      ],
      "metadata": {
        "id": "_jMvnlvTK_XI"
      },
      "execution_count": 1,
      "outputs": []
    },
    {
      "cell_type": "code",
      "source": [
        "test=child()"
      ],
      "metadata": {
        "id": "7Thef0RNNNso"
      },
      "execution_count": 2,
      "outputs": []
    },
    {
      "cell_type": "code",
      "source": [
        "test.func1()"
      ],
      "metadata": {
        "colab": {
          "base_uri": "https://localhost:8080/"
        },
        "id": "Fq0QoCAINP86",
        "outputId": "4814177e-2f2c-4850-c11a-fc1051f4be01"
      },
      "execution_count": 3,
      "outputs": [
        {
          "output_type": "stream",
          "name": "stdout",
          "text": [
            "hello from parent class\n"
          ]
        }
      ]
    },
    {
      "cell_type": "code",
      "source": [
        "test.func2()"
      ],
      "metadata": {
        "colab": {
          "base_uri": "https://localhost:8080/"
        },
        "id": "9qT1d1QBNUrF",
        "outputId": "94e79e2c-991d-4133-f4b1-b9fb6d15a4bb"
      },
      "execution_count": 4,
      "outputs": [
        {
          "output_type": "stream",
          "name": "stdout",
          "text": [
            "hello child\n"
          ]
        }
      ]
    },
    {
      "cell_type": "code",
      "source": [
        "# another example\n",
        "\n",
        "class Ineuron:\n",
        "  company_site = \"http://ineuron.ai\"\n",
        "  name = \"ineuron\"\n",
        "\n",
        "  def contact_details(self):\n",
        "    print(\"contact us at \" , self.company_site)\n",
        "\n",
        "class Datascience(Ineuron):\n",
        "\n",
        "  def __init__(self):\n",
        "    self.year_of_establishment = 2018\n",
        "\n",
        "  def est_details(self):\n",
        "    print(\"est details\", self.name, self.year_of_establishment)"
      ],
      "metadata": {
        "id": "v_Nm2QkrNWS7"
      },
      "execution_count": 5,
      "outputs": []
    },
    {
      "cell_type": "code",
      "source": [
        "ds = Datascience()\n",
        "ds.contact_details()"
      ],
      "metadata": {
        "colab": {
          "base_uri": "https://localhost:8080/"
        },
        "id": "uCIjkYPaVK79",
        "outputId": "89d85367-441c-42eb-ca98-4f668b45b77e"
      },
      "execution_count": 6,
      "outputs": [
        {
          "output_type": "stream",
          "name": "stdout",
          "text": [
            "contact us at  http://ineuron.ai\n"
          ]
        }
      ]
    },
    {
      "cell_type": "markdown",
      "source": [
        "# Multiple Inheritance\n",
        "\n",
        "## it has 1 child class and 2 or more parent classes\n"
      ],
      "metadata": {
        "id": "-5sLgLpcWMHu"
      }
    },
    {
      "cell_type": "code",
      "source": [
        "class Parent1:\n",
        "  def func1(self):\n",
        "    print(\"hello from parent1\")\n",
        "\n",
        "class Parent2:\n",
        "  def func2(self):\n",
        "    print(\"hello from parent2\")\n",
        "\n",
        "\n",
        "class child(Parent1, Parent2):\n",
        "  def func3(self):\n",
        "    print(\"hello child\")\n"
      ],
      "metadata": {
        "id": "IGl75i41VpOs"
      },
      "execution_count": 7,
      "outputs": []
    },
    {
      "cell_type": "code",
      "source": [
        "test=child()"
      ],
      "metadata": {
        "id": "CoiLQqnEVrcl"
      },
      "execution_count": 8,
      "outputs": []
    },
    {
      "cell_type": "code",
      "source": [
        "test.func3()"
      ],
      "metadata": {
        "colab": {
          "base_uri": "https://localhost:8080/"
        },
        "id": "EFlu8kpVX8rE",
        "outputId": "e9566f42-d892-4b21-f861-73b739908918"
      },
      "execution_count": 9,
      "outputs": [
        {
          "output_type": "stream",
          "name": "stdout",
          "text": [
            "hello child\n"
          ]
        }
      ]
    },
    {
      "cell_type": "code",
      "source": [
        "test.func1()"
      ],
      "metadata": {
        "colab": {
          "base_uri": "https://localhost:8080/"
        },
        "id": "v6Y_ZQi4X-uG",
        "outputId": "ac8176dd-0345-46a0-917c-a1b28e3fe3bb"
      },
      "execution_count": 10,
      "outputs": [
        {
          "output_type": "stream",
          "name": "stdout",
          "text": [
            "hello from parent1\n"
          ]
        }
      ]
    },
    {
      "cell_type": "code",
      "source": [
        "#parent class 1\n",
        "\n",
        "class Batch_no:\n",
        "  batchnumber=\"\"\n",
        "  def __init__(self,a,b,c):\n",
        "    self.a=a\n",
        "    self.b=b\n",
        "    self.c=c\n",
        "\n",
        "  def batch(self):\n",
        "    print(\"self.batchnumber\")\n",
        "\n",
        "\n",
        "\n",
        "# parent class 2\n",
        "\n",
        "class Course_name:\n",
        "  cname=\"\"\n",
        "  def course(self):\n",
        "    print(self.cname)\n",
        "\n",
        "\n",
        "\n",
        "# child class\n",
        "\n",
        "class Student(Batch_no, Course_name):\n",
        "\n",
        "  def show(self):\n",
        "    print(\"batch: \", self.batchnumber)\n",
        "    print(\"Course: \", self.cname)\n",
        "\n",
        "\n"
      ],
      "metadata": {
        "id": "f_S2V73SYBiK"
      },
      "execution_count": 11,
      "outputs": []
    },
    {
      "cell_type": "code",
      "source": [
        "s1 = Student(11,11,11)"
      ],
      "metadata": {
        "id": "AiddU5QeZXZQ"
      },
      "execution_count": 12,
      "outputs": []
    },
    {
      "cell_type": "code",
      "source": [
        "s1.batchnumber=\"2\""
      ],
      "metadata": {
        "id": "uMe-MbwsZbn2"
      },
      "execution_count": 13,
      "outputs": []
    },
    {
      "cell_type": "code",
      "source": [
        "s1.cname=\"fsds\""
      ],
      "metadata": {
        "id": "XwOzRWvVZohf"
      },
      "execution_count": 14,
      "outputs": []
    },
    {
      "cell_type": "code",
      "source": [
        "s1.course()"
      ],
      "metadata": {
        "colab": {
          "base_uri": "https://localhost:8080/"
        },
        "id": "A2lxSqC3ZtCl",
        "outputId": "8f21773a-d5ea-43dc-9da8-6c8eb525815d"
      },
      "execution_count": 15,
      "outputs": [
        {
          "output_type": "stream",
          "name": "stdout",
          "text": [
            "fsds\n"
          ]
        }
      ]
    },
    {
      "cell_type": "markdown",
      "source": [
        "# Multilevel Inheritance\n",
        "\n",
        "## it has 1 Parent class and 2 or more child classes (child class 1, child class 2)"
      ],
      "metadata": {
        "id": "gGqvRlNXa6-1"
      }
    },
    {
      "cell_type": "code",
      "source": [
        "#multi level\n",
        "\n",
        "class test1:\n",
        "  def a(self):\n",
        "    print(\"inside test1...\")\n",
        "\n",
        "class test2(test1):\n",
        "  def b(self):\n",
        "    print(\"inside test2\")\n",
        "\n",
        "class test3(test2):\n",
        "  def c(self):\n",
        "    print(\"inside test 3...\")"
      ],
      "metadata": {
        "id": "1iy6kBo6ZyvQ"
      },
      "execution_count": 16,
      "outputs": []
    },
    {
      "cell_type": "code",
      "source": [
        "t1=test3()"
      ],
      "metadata": {
        "id": "pS8zHuvQestt"
      },
      "execution_count": 17,
      "outputs": []
    },
    {
      "cell_type": "code",
      "source": [
        "t1.a()"
      ],
      "metadata": {
        "colab": {
          "base_uri": "https://localhost:8080/"
        },
        "id": "DpJDSVHOeuCa",
        "outputId": "90a6ba4b-6b6f-48a6-9150-c517f47ec800"
      },
      "execution_count": 18,
      "outputs": [
        {
          "output_type": "stream",
          "name": "stdout",
          "text": [
            "inside test1...\n"
          ]
        }
      ]
    },
    {
      "cell_type": "code",
      "source": [
        "class Vehicle:\n",
        "  def info(self):\n",
        "    print(\"inside vehicle class\")\n",
        "\n",
        "class Car(Vehicle):\n",
        "  def car_info(self):\n",
        "    print(\"inside car class\")\n",
        "\n",
        "class sportcar(Car):\n",
        "  def sportscar(self):\n",
        "    print(\"inside sports car\")"
      ],
      "metadata": {
        "id": "NT3XNwe_evBE"
      },
      "execution_count": 19,
      "outputs": []
    },
    {
      "cell_type": "code",
      "source": [
        "s1=sportcar()"
      ],
      "metadata": {
        "id": "5G9wVlTF1Fpe"
      },
      "execution_count": 20,
      "outputs": []
    },
    {
      "cell_type": "code",
      "source": [
        "s1.car_info()"
      ],
      "metadata": {
        "colab": {
          "base_uri": "https://localhost:8080/"
        },
        "id": "jkm_L8py1Icz",
        "outputId": "842084e2-4fb8-4b8a-aa97-186b9b5376e6"
      },
      "execution_count": 21,
      "outputs": [
        {
          "output_type": "stream",
          "name": "stdout",
          "text": [
            "inside car class\n"
          ]
        }
      ]
    },
    {
      "cell_type": "code",
      "source": [
        "class Phones:\n",
        "  def __init__(self, brand, model1, price):\n",
        "    self.brand=brand\n",
        "    self.model1=model1\n",
        "    self.price=price\n",
        "\n",
        "  def specs(self):\n",
        "    return (\"brand: \", self.brand, \"price\", self.price)\n",
        "\n",
        "  def typeofphone(self):\n",
        "    if self.price > 25000:\n",
        "      return \"this is a budget phone\"\n",
        "    else:\n",
        "      return \"this is mid range phone\"\n",
        "\n",
        "class Smartphone(Phones):\n",
        "  def __init__(self,brand, model, price, ram, storage):\n",
        "    super().__init__(brand, model, price)\n",
        "    self.ram=ram\n",
        "    self.storage=storage\n",
        "\n",
        "class Flagshipphone(Smartphone):\n",
        "  def __init__(self, brand, model, price, ram, storage, frontcamera, backcamera, display):\n",
        "    super().__init__(brand, model, price,ram, storage)\n",
        "    self.frontcamera=frontcamera\n",
        "    self.backcamera=backcamera\n",
        "    self.display=display\n",
        "\n",
        "\n"
      ],
      "metadata": {
        "id": "erzmtiwm1VGP"
      },
      "execution_count": 27,
      "outputs": []
    },
    {
      "cell_type": "code",
      "source": [
        "p1=Flagshipphone(\"samsung\", \"s21\", 50000, \"8gb\", 128, 'yes', 'yes', 'yes')"
      ],
      "metadata": {
        "id": "aZEbxb8j4nFP"
      },
      "execution_count": 28,
      "outputs": []
    },
    {
      "cell_type": "code",
      "source": [
        "p1.specs()"
      ],
      "metadata": {
        "colab": {
          "base_uri": "https://localhost:8080/"
        },
        "id": "39iSK_N14qdG",
        "outputId": "ffcbe088-7fed-4a05-db1d-841bd627ccc4"
      },
      "execution_count": 30,
      "outputs": [
        {
          "output_type": "execute_result",
          "data": {
            "text/plain": [
              "('brand: ', 'samsung', 'price', 50000)"
            ]
          },
          "metadata": {},
          "execution_count": 30
        }
      ]
    },
    {
      "cell_type": "code",
      "source": [
        "p1.typeofphone()"
      ],
      "metadata": {
        "colab": {
          "base_uri": "https://localhost:8080/",
          "height": 36
        },
        "id": "cmGUcnOV5Mg3",
        "outputId": "c8ef3757-31df-4116-da33-f3722afd412b"
      },
      "execution_count": 31,
      "outputs": [
        {
          "output_type": "execute_result",
          "data": {
            "text/plain": [
              "'this is a budget phone'"
            ],
            "application/vnd.google.colaboratory.intrinsic+json": {
              "type": "string"
            }
          },
          "metadata": {},
          "execution_count": 31
        }
      ]
    },
    {
      "cell_type": "markdown",
      "source": [
        "# Hieraichal inheritance\n",
        "## It has 1 parent class which can be inherited by 2 or more child classes."
      ],
      "metadata": {
        "id": "0QbW7ENI5pTP"
      }
    },
    {
      "cell_type": "code",
      "source": [
        "class vehicle:\n",
        "  def info(self):\n",
        "    print(\"this is vehicle\")\n",
        "\n",
        "class Car(Vehicle):\n",
        "  def car_info(self,name):\n",
        "    print(\"car name\", self.name)\n",
        "\n",
        "class Truck(Vehicle):\n",
        "  def truck_info(self, name):\n",
        "    print(\"truck name : \", name)"
      ],
      "metadata": {
        "id": "ENMq12m85Se9"
      },
      "execution_count": 32,
      "outputs": []
    },
    {
      "cell_type": "code",
      "source": [
        "s1=Car()"
      ],
      "metadata": {
        "id": "aBvTXNvZ7FWw"
      },
      "execution_count": 33,
      "outputs": []
    },
    {
      "cell_type": "code",
      "source": [
        "s1.info()"
      ],
      "metadata": {
        "colab": {
          "base_uri": "https://localhost:8080/"
        },
        "id": "IAz2RYw97HRz",
        "outputId": "5078049a-7b34-49e2-c9fd-7a2e366efe45"
      },
      "execution_count": 36,
      "outputs": [
        {
          "output_type": "stream",
          "name": "stdout",
          "text": [
            "inside vehicle class\n"
          ]
        }
      ]
    },
    {
      "cell_type": "code",
      "source": [
        "t1=Truck()"
      ],
      "metadata": {
        "id": "Ppg7vb_T7ThP"
      },
      "execution_count": 38,
      "outputs": []
    },
    {
      "cell_type": "code",
      "source": [
        "t1.truck_info(\"TATA\")"
      ],
      "metadata": {
        "colab": {
          "base_uri": "https://localhost:8080/"
        },
        "id": "2sTB6y-B7Jqz",
        "outputId": "04416566-e2a8-4135-f036-e6f4712495aa"
      },
      "execution_count": 40,
      "outputs": [
        {
          "output_type": "stream",
          "name": "stdout",
          "text": [
            "truck name :  TATA\n"
          ]
        }
      ]
    },
    {
      "cell_type": "markdown",
      "source": [
        "# Hybrid Inheritance\n",
        "\n",
        "## it has 1 parent class and many child classes but any class can inherit any parent or child class altogether"
      ],
      "metadata": {
        "id": "sn_2vfL38F8I"
      }
    },
    {
      "cell_type": "code",
      "source": [
        "class vehicle:\n",
        "  def info(self):\n",
        "    print(\"this is vehicle\")\n",
        "\n",
        "class Car(Vehicle):\n",
        "  def car_info(self,name):\n",
        "    print(\"car name\", self.name)\n",
        "\n",
        "class Truck(Vehicle):\n",
        "  def truck_info(self, name):\n",
        "    print(\"truck name : \", name)\n",
        "\n",
        "class Sportscar(Car, Vehicle):\n",
        "  def sportscar(self):\n",
        "    print(\"inside sports class\")"
      ],
      "metadata": {
        "id": "fhrjO3X47R0m"
      },
      "execution_count": 41,
      "outputs": []
    },
    {
      "cell_type": "code",
      "source": [
        "s= Sportscar()"
      ],
      "metadata": {
        "id": "BlWiApnk8zMw"
      },
      "execution_count": 42,
      "outputs": []
    },
    {
      "cell_type": "code",
      "source": [
        "s.info()"
      ],
      "metadata": {
        "colab": {
          "base_uri": "https://localhost:8080/"
        },
        "id": "TEKp9xUW9jfG",
        "outputId": "0d275056-72f8-4c3a-daf3-d15c598c96e9"
      },
      "execution_count": 45,
      "outputs": [
        {
          "output_type": "stream",
          "name": "stdout",
          "text": [
            "inside vehicle class\n"
          ]
        }
      ]
    },
    {
      "cell_type": "markdown",
      "source": [
        "# Super\n",
        "\n",
        "1. super() is used when we need to build classes (child class) that extend the functionality of previously built classes (parent class)\n",
        "\n",
        "2. super functino in python is used to access method of immediate parent class"
      ],
      "metadata": {
        "id": "4LyJk_gVQrm0"
      }
    },
    {
      "cell_type": "code",
      "source": [
        "class Company:\n",
        "  def company_name(self):\n",
        "    return \"ineuron\"\n",
        "\n",
        "class Employee(Company):\n",
        "  def info(self):\n",
        "    c_name= super().company_name()\n",
        "    print(\"i work at : \", c_name)"
      ],
      "metadata": {
        "id": "DCSu08A19mZT"
      },
      "execution_count": 1,
      "outputs": []
    },
    {
      "cell_type": "code",
      "source": [
        "emp=Employee()"
      ],
      "metadata": {
        "id": "0A7zDutlSk0K"
      },
      "execution_count": 2,
      "outputs": []
    },
    {
      "cell_type": "code",
      "source": [
        "emp.company_name()"
      ],
      "metadata": {
        "colab": {
          "base_uri": "https://localhost:8080/",
          "height": 36
        },
        "id": "_y2_0IVLSngF",
        "outputId": "30f77b01-3414-4a91-8d97-9612bb691fff"
      },
      "execution_count": 3,
      "outputs": [
        {
          "output_type": "execute_result",
          "data": {
            "text/plain": [
              "'ineuron'"
            ],
            "application/vnd.google.colaboratory.intrinsic+json": {
              "type": "string"
            }
          },
          "metadata": {},
          "execution_count": 3
        }
      ]
    },
    {
      "cell_type": "code",
      "source": [
        "emp.info()"
      ],
      "metadata": {
        "colab": {
          "base_uri": "https://localhost:8080/"
        },
        "id": "TNjgYRUFSpzz",
        "outputId": "1986f10b-2bf7-4e15-daf8-1ebb8542da6a"
      },
      "execution_count": 4,
      "outputs": [
        {
          "output_type": "stream",
          "name": "stdout",
          "text": [
            "i work at :  ineuron\n"
          ]
        }
      ]
    },
    {
      "cell_type": "code",
      "source": [],
      "metadata": {
        "id": "BsGi5vH3SzVe"
      },
      "execution_count": null,
      "outputs": []
    },
    {
      "cell_type": "markdown",
      "source": [
        "- when we initialize a child class in python we can call super().__init__() method this initialize the parent class object into child class"
      ],
      "metadata": {
        "id": "XIeMXgr8Wbg2"
      }
    },
    {
      "cell_type": "code",
      "source": [
        "class Parent:\n",
        "  def __init__(self,v1,v2):\n",
        "    self.v1=v1\n",
        "    self.v2=v2\n",
        "\n",
        "class child(Parent):\n",
        "  def __init__(self,v1,v2,v3):\n",
        "    super().__init__(v1,v2)\n",
        "    self.v3=v3"
      ],
      "metadata": {
        "id": "oz2do3bYWxZa"
      },
      "execution_count": 7,
      "outputs": []
    },
    {
      "cell_type": "code",
      "source": [
        "c1 = child(2,3,4)"
      ],
      "metadata": {
        "id": "PnscbLUjZpqz"
      },
      "execution_count": 8,
      "outputs": []
    },
    {
      "cell_type": "code",
      "source": [
        "c1.v1"
      ],
      "metadata": {
        "colab": {
          "base_uri": "https://localhost:8080/"
        },
        "id": "ylcJATHQZsMX",
        "outputId": "8ddba3f3-faff-47e0-a11c-6d04ab201031"
      },
      "execution_count": 9,
      "outputs": [
        {
          "output_type": "execute_result",
          "data": {
            "text/plain": [
              "2"
            ]
          },
          "metadata": {},
          "execution_count": 9
        }
      ]
    },
    {
      "cell_type": "code",
      "source": [
        "c1.v2"
      ],
      "metadata": {
        "colab": {
          "base_uri": "https://localhost:8080/"
        },
        "id": "cCmQFEYpZxAD",
        "outputId": "9262bc96-36c4-4cd1-c25d-0f1b1f1c7f55"
      },
      "execution_count": 10,
      "outputs": [
        {
          "output_type": "execute_result",
          "data": {
            "text/plain": [
              "3"
            ]
          },
          "metadata": {},
          "execution_count": 10
        }
      ]
    },
    {
      "cell_type": "code",
      "source": [
        "c1.v3"
      ],
      "metadata": {
        "colab": {
          "base_uri": "https://localhost:8080/"
        },
        "id": "P7_j4N58ZyZ9",
        "outputId": "0f274876-9528-4759-bf44-6a5d9f182def"
      },
      "execution_count": 11,
      "outputs": [
        {
          "output_type": "execute_result",
          "data": {
            "text/plain": [
              "4"
            ]
          },
          "metadata": {},
          "execution_count": 11
        }
      ]
    },
    {
      "cell_type": "code",
      "source": [
        "class Classname(Parent):\n",
        "  def method(self, arg):\n",
        "    super([classname], [self].method(args))\n",
        ""
      ],
      "metadata": {
        "id": "cBb7seLuZzgv"
      },
      "execution_count": 12,
      "outputs": []
    },
    {
      "cell_type": "code",
      "source": [
        "class Parent:\n",
        "  def __init__(self):\n",
        "    print(\"this is the parent class\")\n",
        "\n",
        "class Parent1:\n",
        "  def __init__(self):\n",
        "    print(\"this is the parent1 class\")\n",
        "\n",
        "class Parent2:\n",
        "  def __init__(self):\n",
        "    print(\"this is the parent2 class\")\n",
        "\n",
        "class Child(Parent1, Parent2, Parent):\n",
        "  def __init__(self):\n",
        "    super().__init__()"
      ],
      "metadata": {
        "id": "yVUI1j02bCTM"
      },
      "execution_count": 17,
      "outputs": []
    },
    {
      "cell_type": "code",
      "source": [
        "t1=Child()"
      ],
      "metadata": {
        "colab": {
          "base_uri": "https://localhost:8080/"
        },
        "id": "hQii6NAKbidi",
        "outputId": "6267d6b2-e793-4ba8-b02d-d2f8c7a72b32"
      },
      "execution_count": 18,
      "outputs": [
        {
          "output_type": "stream",
          "name": "stdout",
          "text": [
            "this is the parent1 class\n"
          ]
        }
      ]
    },
    {
      "cell_type": "code",
      "source": [],
      "metadata": {
        "id": "J5IsXRFCbqNv"
      },
      "execution_count": null,
      "outputs": []
    }
  ]
}