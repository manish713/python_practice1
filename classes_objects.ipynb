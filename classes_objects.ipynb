{
  "nbformat": 4,
  "nbformat_minor": 0,
  "metadata": {
    "colab": {
      "provenance": []
    },
    "kernelspec": {
      "name": "python3",
      "display_name": "Python 3"
    },
    "language_info": {
      "name": "python"
    }
  },
  "cells": [
    {
      "cell_type": "markdown",
      "source": [
        "- Class - is a blueprint or code templete for object creation\n",
        "- Object - Object is instance of class\n",
        "- Attribute - properties associate with object(car :- color, fuel type, wheels)\n",
        "- Method - Functionality associated with object (car- we can drive it)"
      ],
      "metadata": {
        "id": "_JuW-hN7xHvv"
      }
    },
    {
      "cell_type": "markdown",
      "source": [
        "# simple class\n",
        "\n",
        "- properties of object-----> attribute, intance variable\n",
        "- functionality on onject ----> methods/function()"
      ],
      "metadata": {
        "id": "Z31UrybyytNb"
      }
    },
    {
      "cell_type": "code",
      "source": [
        "class Emp:\n",
        "  pass"
      ],
      "metadata": {
        "id": "iEQA23Ogx0Tn"
      },
      "execution_count": null,
      "outputs": []
    },
    {
      "cell_type": "code",
      "source": [
        "# object\n",
        "\n",
        "e=Emp()"
      ],
      "metadata": {
        "id": "1_DlLy7TymoP"
      },
      "execution_count": null,
      "outputs": []
    },
    {
      "cell_type": "code",
      "source": [
        "print(type(e))"
      ],
      "metadata": {
        "colab": {
          "base_uri": "https://localhost:8080/"
        },
        "id": "JNoRuVlmy_7c",
        "outputId": "851067de-e3e1-406e-d753-578f6df641f1"
      },
      "execution_count": null,
      "outputs": [
        {
          "output_type": "stream",
          "name": "stdout",
          "text": [
            "<class '__main__.Emp'>\n"
          ]
        }
      ]
    },
    {
      "cell_type": "code",
      "source": [
        "class Robot:\n",
        "\n",
        "  def introduce_self(self):\n",
        "    print(\"my name is \" + self.name)"
      ],
      "metadata": {
        "id": "Whb6riTpzAc_"
      },
      "execution_count": null,
      "outputs": []
    },
    {
      "cell_type": "code",
      "source": [
        "r1 = Robot()"
      ],
      "metadata": {
        "id": "4si5xqtmzpq-"
      },
      "execution_count": null,
      "outputs": []
    },
    {
      "cell_type": "code",
      "source": [
        "r1.name=\"abc\""
      ],
      "metadata": {
        "id": "cgL1qgFWz33R"
      },
      "execution_count": null,
      "outputs": []
    },
    {
      "cell_type": "code",
      "source": [
        "r1.introduce_self()"
      ],
      "metadata": {
        "colab": {
          "base_uri": "https://localhost:8080/"
        },
        "id": "cn7qKRduz6KY",
        "outputId": "05af7427-1f3d-4bc7-f2fe-6ec019310b76"
      },
      "execution_count": null,
      "outputs": [
        {
          "output_type": "stream",
          "name": "stdout",
          "text": [
            "my name is abc\n"
          ]
        }
      ]
    },
    {
      "cell_type": "code",
      "source": [
        "r2=Robot()"
      ],
      "metadata": {
        "id": "lI5HjAr70H-V"
      },
      "execution_count": null,
      "outputs": []
    },
    {
      "cell_type": "code",
      "source": [
        "r2.name=\"xyc\""
      ],
      "metadata": {
        "id": "OEKQznCX0B9E"
      },
      "execution_count": null,
      "outputs": []
    },
    {
      "cell_type": "code",
      "source": [
        "r2.introduce_self()"
      ],
      "metadata": {
        "colab": {
          "base_uri": "https://localhost:8080/"
        },
        "id": "HbRT14Ao0PXj",
        "outputId": "4ccf564a-bd5b-4bf8-b64f-4dec6eb3e989"
      },
      "execution_count": null,
      "outputs": [
        {
          "output_type": "stream",
          "name": "stdout",
          "text": [
            "my name is xyc\n"
          ]
        }
      ]
    },
    {
      "cell_type": "code",
      "source": [
        "r3.name='Manish'"
      ],
      "metadata": {
        "id": "bT4VgfIo24_r"
      },
      "execution_count": null,
      "outputs": []
    },
    {
      "cell_type": "code",
      "source": [
        "r3=Robot()"
      ],
      "metadata": {
        "id": "gZXFToRM1AIC"
      },
      "execution_count": null,
      "outputs": []
    },
    {
      "cell_type": "code",
      "source": [
        "r3.introduce_self()"
      ],
      "metadata": {
        "colab": {
          "base_uri": "https://localhost:8080/"
        },
        "id": "-4WPU__I21_H",
        "outputId": "0d0eeaa1-5ada-456b-f7a6-23515285dee1"
      },
      "execution_count": null,
      "outputs": [
        {
          "output_type": "stream",
          "name": "stdout",
          "text": [
            "my name is Manish\n"
          ]
        }
      ]
    },
    {
      "cell_type": "code",
      "source": [
        "class Robot:\n",
        "\n",
        "  def __init__(self,name,color,weight):\n",
        "    self.name=name\n",
        "    self.color=color\n",
        "    self.weight=weight\n",
        "\n",
        "  def introduce_self(self):\n",
        "    print(\"my name is \" + self.name)"
      ],
      "metadata": {
        "id": "hHoGVHqy29tP"
      },
      "execution_count": null,
      "outputs": []
    },
    {
      "cell_type": "code",
      "source": [
        "r1=Robot(\"abc\",\"red\",30)"
      ],
      "metadata": {
        "id": "qtwWKoMK8ffi"
      },
      "execution_count": null,
      "outputs": []
    },
    {
      "cell_type": "code",
      "source": [
        "r2=Robot(\"xyz\",\"blue\",40)"
      ],
      "metadata": {
        "id": "2UwIxdW-8k13"
      },
      "execution_count": null,
      "outputs": []
    },
    {
      "cell_type": "code",
      "source": [
        "r1.introduce_self()"
      ],
      "metadata": {
        "colab": {
          "base_uri": "https://localhost:8080/"
        },
        "id": "RdMe6TU28qHK",
        "outputId": "6932e20e-a2cb-44da-acb4-9fa6cdc5a0fb"
      },
      "execution_count": null,
      "outputs": [
        {
          "output_type": "stream",
          "name": "stdout",
          "text": [
            "my name is abc\n"
          ]
        }
      ]
    },
    {
      "cell_type": "code",
      "source": [
        "r1.color"
      ],
      "metadata": {
        "colab": {
          "base_uri": "https://localhost:8080/",
          "height": 36
        },
        "id": "X_wsT8zp8ssh",
        "outputId": "b4264553-6b93-431b-c62e-8d950c155293"
      },
      "execution_count": null,
      "outputs": [
        {
          "output_type": "execute_result",
          "data": {
            "text/plain": [
              "'red'"
            ],
            "application/vnd.google.colaboratory.intrinsic+json": {
              "type": "string"
            }
          },
          "metadata": {},
          "execution_count": 22
        }
      ]
    },
    {
      "cell_type": "code",
      "source": [
        "class Person:\n",
        "\n",
        "  def __init__(self,name,gender,profession):\n",
        "    self.name=name\n",
        "    self.gender=gender\n",
        "    self.profession=profession\n",
        "\n",
        "  def show(self):\n",
        "    print('name', self.name,'Gender', self.gender, 'Profession', self.profession)\n",
        "\n",
        "  def work(self):\n",
        "    print(self.name, 'working as a ', self.profession)\n"
      ],
      "metadata": {
        "id": "zowgEjBh9Cav"
      },
      "execution_count": null,
      "outputs": []
    },
    {
      "cell_type": "code",
      "source": [
        "o1 = Person(\"manish\", \"male\", \"engineer\")"
      ],
      "metadata": {
        "id": "tDG5ACrxIg3l"
      },
      "execution_count": null,
      "outputs": []
    },
    {
      "cell_type": "code",
      "source": [
        "o1.show()"
      ],
      "metadata": {
        "colab": {
          "base_uri": "https://localhost:8080/"
        },
        "id": "eQaNZuqWInqG",
        "outputId": "4d9cb481-aeee-40ca-b970-e2067f35acf2"
      },
      "execution_count": null,
      "outputs": [
        {
          "output_type": "stream",
          "name": "stdout",
          "text": [
            "name manish Gender male Profession engineer\n"
          ]
        }
      ]
    },
    {
      "cell_type": "code",
      "source": [
        "o1.work()"
      ],
      "metadata": {
        "colab": {
          "base_uri": "https://localhost:8080/"
        },
        "id": "Od4rRKE9Io0z",
        "outputId": "c532cbdf-5149-462b-a657-4fcc392d680f"
      },
      "execution_count": null,
      "outputs": [
        {
          "output_type": "stream",
          "name": "stdout",
          "text": [
            "manish working as a  engineer\n"
          ]
        }
      ]
    },
    {
      "cell_type": "code",
      "source": [
        "o2=Person(\"ravi\", \"Male\", \"engineer\")"
      ],
      "metadata": {
        "id": "RuI97v7MJOmw"
      },
      "execution_count": null,
      "outputs": []
    },
    {
      "cell_type": "code",
      "source": [
        "o2.work()"
      ],
      "metadata": {
        "colab": {
          "base_uri": "https://localhost:8080/"
        },
        "id": "SQ-Kdre_L5fj",
        "outputId": "90d57f2b-1635-4605-d7c5-4f4d502d8f79"
      },
      "execution_count": null,
      "outputs": [
        {
          "output_type": "stream",
          "name": "stdout",
          "text": [
            "ravi working as a  engineer\n"
          ]
        }
      ]
    },
    {
      "cell_type": "code",
      "source": [
        "class Emp:\n",
        "  def __init__(self):\n",
        "    print(id(self))\n",
        "    self.age=25\n",
        "    self.name=\"manish\"\n",
        "    self.salary=10000\n"
      ],
      "metadata": {
        "id": "zEMoLQ7fL7oj"
      },
      "execution_count": null,
      "outputs": []
    },
    {
      "cell_type": "code",
      "source": [
        "e1=Emp()"
      ],
      "metadata": {
        "colab": {
          "base_uri": "https://localhost:8080/"
        },
        "id": "UW12OcZ22QHz",
        "outputId": "8e10f7ae-e7f9-424f-feb7-5abae915ce80"
      },
      "execution_count": null,
      "outputs": [
        {
          "output_type": "stream",
          "name": "stdout",
          "text": [
            "134070636323808\n"
          ]
        }
      ]
    },
    {
      "cell_type": "code",
      "source": [
        "e1.age"
      ],
      "metadata": {
        "colab": {
          "base_uri": "https://localhost:8080/"
        },
        "id": "VH6P5RsL2RXJ",
        "outputId": "e44827fb-1bbc-4cc5-b080-62466e9ce102"
      },
      "execution_count": null,
      "outputs": [
        {
          "output_type": "execute_result",
          "data": {
            "text/plain": [
              "25"
            ]
          },
          "metadata": {},
          "execution_count": 6
        }
      ]
    },
    {
      "cell_type": "code",
      "source": [
        "e1.salary"
      ],
      "metadata": {
        "colab": {
          "base_uri": "https://localhost:8080/"
        },
        "id": "5BNK2fWk2iD_",
        "outputId": "da279c14-f96d-4e1f-b2a4-ea5345cd8267"
      },
      "execution_count": null,
      "outputs": [
        {
          "output_type": "execute_result",
          "data": {
            "text/plain": [
              "10000"
            ]
          },
          "metadata": {},
          "execution_count": 7
        }
      ]
    },
    {
      "cell_type": "code",
      "source": [
        "e1.weight=34"
      ],
      "metadata": {
        "id": "FD8n357j2lhQ"
      },
      "execution_count": null,
      "outputs": []
    },
    {
      "cell_type": "code",
      "source": [
        "e1.weight"
      ],
      "metadata": {
        "colab": {
          "base_uri": "https://localhost:8080/"
        },
        "id": "42BdtKjD21KU",
        "outputId": "bee1e256-9b72-4f4a-9135-c14387cb9b56"
      },
      "execution_count": null,
      "outputs": [
        {
          "output_type": "execute_result",
          "data": {
            "text/plain": [
              "34"
            ]
          },
          "metadata": {},
          "execution_count": 9
        }
      ]
    },
    {
      "cell_type": "code",
      "source": [
        "class Circle:\n",
        "  def __init__(self, radius):\n",
        "    self.radius = radius\n",
        "\n",
        "  def find_area(self):\n",
        "    print(3.14 * self.radius **2)\n",
        "\n",
        "  def circumference(self):\n",
        "    print(2 * 3.14 * self.radius)\n",
        "\n",
        "a = Circle(radius=11)\n",
        "a.find_area()\n",
        "a.circumference()"
      ],
      "metadata": {
        "colab": {
          "base_uri": "https://localhost:8080/"
        },
        "id": "iL3zHHiN22sk",
        "outputId": "053f0c34-1b47-4e0d-f8f6-b1d1934c502d"
      },
      "execution_count": null,
      "outputs": [
        {
          "output_type": "stream",
          "name": "stdout",
          "text": [
            "379.94\n",
            "69.08\n"
          ]
        }
      ]
    },
    {
      "cell_type": "code",
      "source": [
        "class BankAccount:\n",
        "  def __init__(self, account_number, name, balance):\n",
        "    self.account_number=account_number\n",
        "    self.name=name\n",
        "    self.balance=balance\n",
        "\n",
        "  def deposit(self, d_amount):\n",
        "    self.d_amount = d_amount\n",
        "    self.balance += self.d_amount\n",
        "    print(self.d_amount, 'is credited into your account')\n",
        "    print(f'your account balance is {self.balance}')\n",
        "\n",
        "  def withdraw(self, w_amount):\n",
        "    self.w_amount = w_amount\n",
        "    self.balance -=  self.w_amount\n",
        "    print(self.w_amount, 'is debited from your account')\n",
        "    print(f'your account balance is {self.balance}')\n",
        "\n",
        "  def account_details(self):\n",
        "    print(f'your name is {self.name}')\n",
        "    print(f'your account number is {self.account_number}')\n",
        "    print(f'your balance is {self.balance}')\n"
      ],
      "metadata": {
        "id": "-xmCyv094nWU"
      },
      "execution_count": null,
      "outputs": []
    },
    {
      "cell_type": "code",
      "source": [
        "ba=BankAccount(1122, \"manish\", 2000)"
      ],
      "metadata": {
        "id": "L8cC6LgRDyDI"
      },
      "execution_count": null,
      "outputs": []
    },
    {
      "cell_type": "code",
      "source": [
        "ba.deposit(1000)"
      ],
      "metadata": {
        "colab": {
          "base_uri": "https://localhost:8080/"
        },
        "id": "fdTcJ_DkD7CC",
        "outputId": "54710c6e-5053-490a-d3b7-b3389c023a77"
      },
      "execution_count": null,
      "outputs": [
        {
          "output_type": "stream",
          "name": "stdout",
          "text": [
            "1000 is credited into your account\n",
            "your account balance is 3000\n"
          ]
        }
      ]
    },
    {
      "cell_type": "code",
      "source": [
        "ba.withdraw(100)"
      ],
      "metadata": {
        "colab": {
          "base_uri": "https://localhost:8080/"
        },
        "id": "ZXPbbtM8G6nY",
        "outputId": "1243919b-c7b9-45c5-b3bb-954f5670172a"
      },
      "execution_count": null,
      "outputs": [
        {
          "output_type": "stream",
          "name": "stdout",
          "text": [
            "100 is debited from your account\n",
            "your account balance is 2900\n"
          ]
        }
      ]
    },
    {
      "cell_type": "code",
      "source": [
        "ba.account_details()"
      ],
      "metadata": {
        "colab": {
          "base_uri": "https://localhost:8080/"
        },
        "id": "2G3itDPtD9v0",
        "outputId": "318c519d-e529-4eaa-fff0-e31678c001fc"
      },
      "execution_count": null,
      "outputs": [
        {
          "output_type": "stream",
          "name": "stdout",
          "text": [
            "your name is manish\n",
            "your account number is 1122\n",
            "your balance is 2900\n"
          ]
        }
      ]
    },
    {
      "cell_type": "code",
      "source": [],
      "metadata": {
        "id": "9TkVnEkLEbLp"
      },
      "execution_count": null,
      "outputs": []
    }
  ]
}