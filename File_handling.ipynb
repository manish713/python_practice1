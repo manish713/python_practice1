{
  "nbformat": 4,
  "nbformat_minor": 0,
  "metadata": {
    "colab": {
      "provenance": [],
      "gpuType": "T4"
    },
    "kernelspec": {
      "name": "python3",
      "display_name": "Python 3"
    },
    "language_info": {
      "name": "python"
    },
    "accelerator": "GPU"
  },
  "cells": [
    {
      "cell_type": "markdown",
      "source": [
        "# File **Handling**"
      ],
      "metadata": {
        "id": "mkD97nCikj5o"
      }
    },
    {
      "cell_type": "code",
      "execution_count": 7,
      "metadata": {
        "colab": {
          "base_uri": "https://localhost:8080/"
        },
        "id": "oV9vHIs_kjON",
        "outputId": "543b0f50-8616-41e6-e490-7a6f18c92e46"
      },
      "outputs": [
        {
          "output_type": "stream",
          "name": "stdout",
          "text": [
            "\u001b[0m\u001b[01;34msample_data\u001b[0m/\n"
          ]
        }
      ],
      "source": [
        "%ls"
      ]
    },
    {
      "cell_type": "code",
      "source": [
        "\n",
        "pwd()"
      ],
      "metadata": {
        "colab": {
          "base_uri": "https://localhost:8080/",
          "height": 36
        },
        "id": "khEse3-UkqlH",
        "outputId": "8d87fe7f-7009-4e71-a821-bed9fd6d8313"
      },
      "execution_count": 8,
      "outputs": [
        {
          "output_type": "execute_result",
          "data": {
            "text/plain": [
              "'/content'"
            ],
            "application/vnd.google.colaboratory.intrinsic+json": {
              "type": "string"
            }
          },
          "metadata": {},
          "execution_count": 8
        }
      ]
    },
    {
      "cell_type": "code",
      "source": [
        "f=open(\"/content/sample_data/mnist_test.csv\")"
      ],
      "metadata": {
        "id": "TaSN1hFCksgj"
      },
      "execution_count": 9,
      "outputs": []
    },
    {
      "cell_type": "code",
      "source": [
        "type(f)"
      ],
      "metadata": {
        "colab": {
          "base_uri": "https://localhost:8080/"
        },
        "id": "r-3qSHCDk0tt",
        "outputId": "e900db23-81eb-4989-92ec-b4c7d667e9fa"
      },
      "execution_count": 10,
      "outputs": [
        {
          "output_type": "execute_result",
          "data": {
            "text/plain": [
              "_io.TextIOWrapper"
            ]
          },
          "metadata": {},
          "execution_count": 10
        }
      ]
    },
    {
      "cell_type": "code",
      "source": [
        "f.close()"
      ],
      "metadata": {
        "id": "w-QmZvh3k1Jv"
      },
      "execution_count": 11,
      "outputs": []
    },
    {
      "cell_type": "code",
      "source": [
        "f=open(\"/content/sample_data/mnist_test.csv\")"
      ],
      "metadata": {
        "id": "sG8GqSGqk2-O"
      },
      "execution_count": 13,
      "outputs": []
    },
    {
      "cell_type": "code",
      "source": [
        "f.read(4) #to read 4 data"
      ],
      "metadata": {
        "colab": {
          "base_uri": "https://localhost:8080/",
          "height": 36
        },
        "id": "trD6t_ByqO3m",
        "outputId": "924d72e6-6494-40b3-aa87-8742fc1be8ec"
      },
      "execution_count": 14,
      "outputs": [
        {
          "output_type": "execute_result",
          "data": {
            "text/plain": [
              "'7,0,'"
            ],
            "application/vnd.google.colaboratory.intrinsic+json": {
              "type": "string"
            }
          },
          "metadata": {},
          "execution_count": 14
        }
      ]
    },
    {
      "cell_type": "code",
      "source": [
        "f.read(6)"
      ],
      "metadata": {
        "colab": {
          "base_uri": "https://localhost:8080/",
          "height": 36
        },
        "id": "EIPN45BfqVLU",
        "outputId": "50ee089f-10bc-46c4-be49-1c0ac235f324"
      },
      "execution_count": 15,
      "outputs": [
        {
          "output_type": "execute_result",
          "data": {
            "text/plain": [
              "'0,0,0,'"
            ],
            "application/vnd.google.colaboratory.intrinsic+json": {
              "type": "string"
            }
          },
          "metadata": {},
          "execution_count": 15
        }
      ]
    },
    {
      "cell_type": "code",
      "source": [
        "f.tell() #current file position"
      ],
      "metadata": {
        "colab": {
          "base_uri": "https://localhost:8080/"
        },
        "id": "N9Ni50jPqWjV",
        "outputId": "c8f1eef1-0240-40c9-8ac0-cbb5f01e264f"
      },
      "execution_count": 16,
      "outputs": [
        {
          "output_type": "execute_result",
          "data": {
            "text/plain": [
              "10"
            ]
          },
          "metadata": {},
          "execution_count": 16
        }
      ]
    },
    {
      "cell_type": "code",
      "source": [
        "f.seek()"
      ],
      "metadata": {
        "id": "h6MzArzirJYW",
        "colab": {
          "base_uri": "https://localhost:8080/"
        },
        "outputId": "81d6a533-b734-48cb-f774-5cacaee3e8ff"
      },
      "execution_count": 21,
      "outputs": [
        {
          "output_type": "execute_result",
          "data": {
            "text/plain": [
              "101"
            ]
          },
          "metadata": {},
          "execution_count": 21
        }
      ]
    },
    {
      "cell_type": "code",
      "source": [
        "f.readlines(1)"
      ],
      "metadata": {
        "colab": {
          "base_uri": "https://localhost:8080/"
        },
        "id": "FsX6nh50g4wS",
        "outputId": "3b6f864b-a4b8-4594-eef5-b985e2be5268"
      },
      "execution_count": 24,
      "outputs": [
        {
          "output_type": "execute_result",
          "data": {
            "text/plain": [
              "[]"
            ]
          },
          "metadata": {},
          "execution_count": 24
        }
      ]
    },
    {
      "cell_type": "code",
      "source": [
        "try:\n",
        "  f=open(\"test.txt\")\n",
        "finally:\n",
        "  f.close()"
      ],
      "metadata": {
        "id": "cTK_c-wDhz2-"
      },
      "execution_count": 27,
      "outputs": []
    },
    {
      "cell_type": "code",
      "source": [
        "with open(\"test.txt\") as f:\n",
        "  #file operation\n",
        "  pass\n",
        "\n",
        "#it will close once its executed \"with\" operation"
      ],
      "metadata": {
        "id": "NtAiQHVHiD5m"
      },
      "execution_count": 28,
      "outputs": []
    },
    {
      "cell_type": "markdown",
      "source": [
        "#write a file"
      ],
      "metadata": {
        "id": "hZpTAP-7jd0M"
      }
    },
    {
      "cell_type": "code",
      "source": [
        "data=\"manish\"\n",
        "f=open(\"test1.txt\",'w')\n",
        "f.write(data)\n",
        "print(\"done\")\n",
        "f.close\n",
        "\n",
        "# creates a file, inserts the data in file & closes the file"
      ],
      "metadata": {
        "colab": {
          "base_uri": "https://localhost:8080/"
        },
        "id": "x6myj0CBjdN0",
        "outputId": "86cd6736-ef59-49a0-e0c9-d80c36612da4"
      },
      "execution_count": 29,
      "outputs": [
        {
          "output_type": "stream",
          "name": "stdout",
          "text": [
            "done\n"
          ]
        },
        {
          "output_type": "execute_result",
          "data": {
            "text/plain": [
              "<function TextIOWrapper.close()>"
            ]
          },
          "metadata": {},
          "execution_count": 29
        }
      ]
    },
    {
      "cell_type": "code",
      "source": [
        "with open(\"test2.txt\",'w') as f:\n",
        "  f.write(\"first line\\n\")\n",
        "  f.write(\"second line\")"
      ],
      "metadata": {
        "id": "nmGF4xleignY"
      },
      "execution_count": 33,
      "outputs": []
    },
    {
      "cell_type": "code",
      "source": [
        "# r - opening a file in read mode\n",
        "# w - opening a file in writing and creates a new file if does not exist\n",
        "# x - opens a file for exclusive creation if the file exist the operation will fail\n",
        "# a - opens a file for appending at the end of a file\n",
        "# + - opens a file for updating"
      ],
      "metadata": {
        "id": "YybqQ_5LkQVx"
      },
      "execution_count": 4,
      "outputs": []
    },
    {
      "cell_type": "markdown",
      "source": [
        "# r - opening a file in read mode\n",
        "# w - opening a file in writing and creates a new file if does not exist\n",
        "# x - opens a file for exclusive creation if the file already exist it will throw error\n",
        "# a - opens a file for appending at the end of a file\n",
        "# + - opens a file for updating"
      ],
      "metadata": {
        "id": "LNCKDGPOvDrL"
      }
    },
    {
      "cell_type": "code",
      "source": [
        "f=open(\"new.txt\",'x')"
      ],
      "metadata": {
        "id": "aWwIY5pGuAkx"
      },
      "execution_count": 5,
      "outputs": []
    },
    {
      "cell_type": "code",
      "source": [
        "f=open(\"new.txt\",'x')"
      ],
      "metadata": {
        "colab": {
          "base_uri": "https://localhost:8080/",
          "height": 175
        },
        "id": "qZzQAt8kvQWo",
        "outputId": "86079af5-143f-464d-f230-28abcd200230"
      },
      "execution_count": 6,
      "outputs": [
        {
          "output_type": "error",
          "ename": "FileExistsError",
          "evalue": "ignored",
          "traceback": [
            "\u001b[0;31m---------------------------------------------------------------------------\u001b[0m",
            "\u001b[0;31mFileExistsError\u001b[0m                           Traceback (most recent call last)",
            "\u001b[0;32m<ipython-input-6-778d1b74feca>\u001b[0m in \u001b[0;36m<cell line: 1>\u001b[0;34m()\u001b[0m\n\u001b[0;32m----> 1\u001b[0;31m \u001b[0mf\u001b[0m\u001b[0;34m=\u001b[0m\u001b[0mopen\u001b[0m\u001b[0;34m(\u001b[0m\u001b[0;34m\"new.txt\"\u001b[0m\u001b[0;34m,\u001b[0m\u001b[0;34m'x'\u001b[0m\u001b[0;34m)\u001b[0m\u001b[0;34m\u001b[0m\u001b[0;34m\u001b[0m\u001b[0m\n\u001b[0m",
            "\u001b[0;31mFileExistsError\u001b[0m: [Errno 17] File exists: 'new.txt'"
          ]
        }
      ]
    },
    {
      "cell_type": "code",
      "source": [],
      "metadata": {
        "id": "G8waeQqivU7J"
      },
      "execution_count": null,
      "outputs": []
    }
  ]
}