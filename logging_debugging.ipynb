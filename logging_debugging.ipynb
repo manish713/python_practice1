{
  "nbformat": 4,
  "nbformat_minor": 0,
  "metadata": {
    "colab": {
      "provenance": [],
      "gpuType": "T4"
    },
    "kernelspec": {
      "name": "python3",
      "display_name": "Python 3"
    },
    "language_info": {
      "name": "python"
    },
    "accelerator": "GPU"
  },
  "cells": [
    {
      "cell_type": "code",
      "source": [
        "def add(x,y):\n",
        "  return(x+y)\n",
        "\n",
        "def subtract(x,y):\n",
        "  return(x-y)\n",
        "\n",
        "def subtract(x,y):\n",
        "  return(x-y)\n",
        "\n",
        "num_1=10\n",
        "num_2=20\n",
        "\n",
        "add_result=add(num_1,num_2)\n",
        "print(add_result)\n",
        "sub_result=subtract(num_1,num_2)\n",
        "print(sub_result)"
      ],
      "metadata": {
        "colab": {
          "base_uri": "https://localhost:8080/"
        },
        "id": "TqaXvxpauu6z",
        "outputId": "75abc33f-5236-4fa0-b00f-febd0da05327"
      },
      "execution_count": null,
      "outputs": [
        {
          "output_type": "stream",
          "name": "stdout",
          "text": [
            "30\n",
            "-10\n"
          ]
        }
      ]
    },
    {
      "cell_type": "code",
      "source": [
        "# logging is module which helps us to track and record the log information."
      ],
      "metadata": {
        "id": "QA4yL-V3wnA4"
      },
      "execution_count": null,
      "outputs": []
    },
    {
      "cell_type": "code",
      "source": [
        "# log is a critical part of system documentation about runtime status of application"
      ],
      "metadata": {
        "id": "9UuaGiKSwt_E"
      },
      "execution_count": null,
      "outputs": []
    },
    {
      "cell_type": "code",
      "source": [
        "import logging\n",
        "\n",
        "logging.basicConfig(level=logging.DEBUG)\n",
        "\n",
        "def add(x,y):\n",
        "  return(x+y)\n",
        "\n",
        "def subtract(x,y):\n",
        "  return(x-y)\n",
        "\n",
        "def subtract(x,y):\n",
        "  return(x-y)\n",
        "\n",
        "num_1=10\n",
        "num_2=20\n",
        "\n",
        "add_result=add(num_1,num_2)\n",
        "logging.debug(add_result)\n",
        "sub_result=subtract(num_1,num_2)\n",
        "logging.debug(sub_result)"
      ],
      "metadata": {
        "id": "e9R1-n8cyQWo"
      },
      "execution_count": null,
      "outputs": []
    },
    {
      "cell_type": "code",
      "source": [
        "import logging"
      ],
      "metadata": {
        "id": "2TEAF7ir25H_"
      },
      "execution_count": null,
      "outputs": []
    },
    {
      "cell_type": "markdown",
      "source": [
        "## LOGGING LEVELS\n",
        "- DEBUG =10\n",
        "- INFO =20\n",
        "- WARNING =30\n",
        "- ERROR =40\n",
        "- CRITICAL =50"
      ],
      "metadata": {
        "id": "bMYG-Y623Q7B"
      }
    },
    {
      "cell_type": "code",
      "source": [
        "logging.info(\"this is info\")"
      ],
      "metadata": {
        "id": "XzeWt6X526kQ"
      },
      "execution_count": null,
      "outputs": []
    },
    {
      "cell_type": "code",
      "source": [
        "import logging\n",
        "\n",
        "logging.basicConfig(filename='test1.log', level=logging.INFO)\n",
        "\n",
        "def add(x,y):\n",
        "  return(x+y)\n",
        "\n",
        "def subtract(x,y):\n",
        "  return(x-y)\n",
        "\n",
        "def multiply(x,y):\n",
        "  return x*y\n",
        "\n",
        "def divide(x,y):\n",
        "  return x/y\n",
        "\n",
        "num_1=10\n",
        "num_2=20\n",
        "\n",
        "add_result=add(num_1,num_2)\n",
        "logging.debug(add_result)\n",
        "\n",
        "sub_result=subtract(num_1,num_2)\n",
        "logging.info(sub_result)\n",
        "\n",
        "multiply_result=multiply(num_1,num_2)\n",
        "logging.warning(multiply_result)\n",
        "\n",
        "divide_result=divide(num_1,num_2)\n",
        "logging.critical(divide_result)"
      ],
      "metadata": {
        "colab": {
          "base_uri": "https://localhost:8080/"
        },
        "id": "x9nTkMjc4B6k",
        "outputId": "6de2063b-437d-4b65-d822-ce85b4870dfe"
      },
      "execution_count": null,
      "outputs": [
        {
          "output_type": "stream",
          "name": "stderr",
          "text": [
            "WARNING:root:200\n",
            "CRITICAL:root:0.5\n"
          ]
        }
      ]
    },
    {
      "cell_type": "code",
      "source": [
        "logging.basicConfig(filename = 'demo22.log', level=logging.INFO, format='%(asctime)s - %(levelname)s - %(message)s )')\n",
        "\n",
        "def namecheck(name):\n",
        "  if len(name) <2:\n",
        "    logging.debug('checking for a name length')\n",
        "    return 'invalid name'\n",
        "  elif name.isspace():\n",
        "    logging.debug('checking for name has space')\n",
        "    return 'invalid name'\n",
        "  elif name.isalpha():\n",
        "    logging.debug('chekcing for name is alphabet')\n",
        "    return 'valid name'\n",
        "  elif name.replace(' ', '').isalpha():\n",
        "    logging.debug(\"checking for full name\")\n",
        "    return 'name is valid'\n",
        "  else:\n",
        "    logging.debug('failed all checks')\n",
        "    return 'invalid name'"
      ],
      "metadata": {
        "id": "NX5M9g4JFd4e"
      },
      "execution_count": null,
      "outputs": []
    },
    {
      "cell_type": "code",
      "source": [
        "print(namecheck('imran'))"
      ],
      "metadata": {
        "colab": {
          "base_uri": "https://localhost:8080/"
        },
        "id": "Gg7pY5eMvdqH",
        "outputId": "e387c969-d269-498d-92ae-1502bfff53ce"
      },
      "execution_count": null,
      "outputs": [
        {
          "output_type": "stream",
          "name": "stdout",
          "text": [
            "valid name\n"
          ]
        }
      ]
    },
    {
      "cell_type": "code",
      "source": [
        "print(namecheck('manish bisht'))"
      ],
      "metadata": {
        "colab": {
          "base_uri": "https://localhost:8080/"
        },
        "id": "n2TyKpkavjaA",
        "outputId": "d092f46d-85e4-44e0-f0d0-0bb9ab500b78"
      },
      "execution_count": null,
      "outputs": [
        {
          "output_type": "stream",
          "name": "stdout",
          "text": [
            "name is valid\n"
          ]
        }
      ]
    },
    {
      "cell_type": "code",
      "source": [
        "print(namecheck(\"123\"))"
      ],
      "metadata": {
        "colab": {
          "base_uri": "https://localhost:8080/"
        },
        "id": "E83AQ5gxvnZ0",
        "outputId": "755830ea-d4d8-4e61-ef2d-e777ac8e9a24"
      },
      "execution_count": null,
      "outputs": [
        {
          "output_type": "stream",
          "name": "stdout",
          "text": [
            "invalid name\n"
          ]
        }
      ]
    },
    {
      "cell_type": "code",
      "source": [
        "# formatting in logging\n",
        "\n",
        "\n",
        "import logging\n",
        "\n",
        "logging.basicConfig(filename='test12.log', level=logging.INFO, format='%(asctime)s - %(levelname)s - %(message)s ')\n",
        "\n",
        "def add(x,y):\n",
        "  return(x+y)\n",
        "\n",
        "def subtract(x,y):\n",
        "  return(x-y)\n",
        "\n",
        "def multiply(x,y):\n",
        "  return x*y\n",
        "\n",
        "def divide(x,y):\n",
        "  return x/y\n",
        "\n",
        "num_1=10\n",
        "num_2=20\n",
        "\n",
        "add_result=add(num_1,num_2)\n",
        "logging.debug(add_result)\n",
        "\n",
        "sub_result=subtract(num_1,num_2)\n",
        "logging.info(sub_result)\n",
        "\n",
        "multiply_result=multiply(num_1,num_2)\n",
        "logging.warning(multiply_result)\n",
        "\n",
        "divide_result=divide(num_1,num_2)\n",
        "logging.critical(divide_result)"
      ],
      "metadata": {
        "colab": {
          "base_uri": "https://localhost:8080/"
        },
        "id": "XpXoied6vrOf",
        "outputId": "14eabd8f-86bb-48e2-80f3-d745e93ed08f"
      },
      "execution_count": null,
      "outputs": [
        {
          "output_type": "stream",
          "name": "stderr",
          "text": [
            "WARNING:root:200\n",
            "CRITICAL:root:0.5\n"
          ]
        }
      ]
    },
    {
      "cell_type": "code",
      "source": [
        "import logging\n",
        "logging.basicConfig(filename='demo4.log', level=logging.DEBUG)\n",
        "def sum():\n",
        "  a= int(input(\"enter a number\"))\n",
        "  b= int(input(\"enter 2nd number\"))\n",
        "  c=a+b\n",
        "  logging.debug(\"sum of inputs: \")\n",
        "  return c"
      ],
      "metadata": {
        "id": "GrVC-uDU0Z5T"
      },
      "execution_count": null,
      "outputs": []
    },
    {
      "cell_type": "code",
      "source": [
        "sum()"
      ],
      "metadata": {
        "colab": {
          "base_uri": "https://localhost:8080/"
        },
        "id": "5HB5talB1kZN",
        "outputId": "8fdb3872-1968-4d6b-9db3-34b76deb3077"
      },
      "execution_count": null,
      "outputs": [
        {
          "name": "stdout",
          "output_type": "stream",
          "text": [
            "enter a number12\n",
            "enter 2nd number10\n"
          ]
        },
        {
          "output_type": "execute_result",
          "data": {
            "text/plain": [
              "22"
            ]
          },
          "metadata": {},
          "execution_count": 22
        }
      ]
    },
    {
      "cell_type": "code",
      "source": [],
      "metadata": {
        "id": "3O-gINzu4G4y"
      },
      "execution_count": null,
      "outputs": []
    }
  ]
}