{
  "nbformat": 4,
  "nbformat_minor": 0,
  "metadata": {
    "colab": {
      "provenance": []
    },
    "kernelspec": {
      "name": "python3",
      "display_name": "Python 3"
    },
    "language_info": {
      "name": "python"
    }
  },
  "cells": [
    {
      "cell_type": "markdown",
      "source": [
        "- class variable\n",
        "- instance variable\n",
        "- variables\n",
        "- attribute"
      ],
      "metadata": {
        "id": "4ZH3MK_8VaJj"
      }
    },
    {
      "cell_type": "code",
      "source": [
        "class car:\n",
        "  pass"
      ],
      "metadata": {
        "id": "djE7r2SkwB8m"
      },
      "execution_count": 1,
      "outputs": []
    },
    {
      "cell_type": "code",
      "source": [
        "audi = car()"
      ],
      "metadata": {
        "id": "fnclW3xtVRmo"
      },
      "execution_count": 2,
      "outputs": []
    },
    {
      "cell_type": "code",
      "source": [
        "audi.mileage= 10\n",
        "audi.year= 2005\n",
        "audi.make = 8660514482\n",
        "audi.model = \"abc\""
      ],
      "metadata": {
        "id": "beJrxrnWVqf5"
      },
      "execution_count": 3,
      "outputs": []
    },
    {
      "cell_type": "code",
      "source": [
        "class car:\n",
        "  def __init__(self,mileage,year,make,model):\n",
        "    self.mileage=mileage\n",
        "    self.year=year\n",
        "    self.make=make\n",
        "    self.model=model\n",
        "\n",
        "## self is a pointer"
      ],
      "metadata": {
        "id": "30lw-AXxV30p"
      },
      "execution_count": 4,
      "outputs": []
    },
    {
      "cell_type": "code",
      "source": [
        "nano1=car(10,2000,44,\"manish\")\n",
        "nano2=car(10,2000,44,\"manish\")\n",
        "nano3=car(10,2000,44,\"manish\")\n",
        "nano4=car(10,2000,44,\"manish\")\n",
        "nano5=car(10,2000,44,\"manish\")\n",
        "nano6=car(10,2000,44,\"manish\")"
      ],
      "metadata": {
        "id": "Djy4CMn1GrGv"
      },
      "execution_count": 6,
      "outputs": []
    },
    {
      "cell_type": "code",
      "source": [
        "class car:\n",
        "  def __init__(a,m,y,m1,m2):\n",
        "    a.milage1=m\n",
        "    a.year=y\n",
        "    a.make=m1\n",
        "    a.model=m2\n",
        "\n",
        "  def age1(b,current_year):\n",
        "    return current_year-b.year\n",
        "\n",
        "  def milage1(self):\n",
        "    return(\"print a milage of the car\", self.milage1)"
      ],
      "metadata": {
        "id": "Q5IP4PKGG15_"
      },
      "execution_count": 36,
      "outputs": []
    },
    {
      "cell_type": "code",
      "source": [
        "nano22=car(10,2000,45,\"manhhhhh\")"
      ],
      "metadata": {
        "id": "0mF1DkNpI8Pr"
      },
      "execution_count": 37,
      "outputs": []
    },
    {
      "cell_type": "code",
      "source": [
        "nano22.age1(2024)"
      ],
      "metadata": {
        "colab": {
          "base_uri": "https://localhost:8080/"
        },
        "id": "u6jFLsCqJIIh",
        "outputId": "bf63d336-092a-48c7-ac9d-97eb1ffd1e7a"
      },
      "execution_count": 40,
      "outputs": [
        {
          "output_type": "execute_result",
          "data": {
            "text/plain": [
              "24"
            ]
          },
          "metadata": {},
          "execution_count": 40
        }
      ]
    },
    {
      "cell_type": "code",
      "source": [
        "nano22.milage1()"
      ],
      "metadata": {
        "colab": {
          "base_uri": "https://localhost:8080/",
          "height": 175
        },
        "id": "AEcqqAkLJNE2",
        "outputId": "94933e01-d7ce-4135-8e7f-9c398076b5f3"
      },
      "execution_count": 39,
      "outputs": [
        {
          "output_type": "error",
          "ename": "TypeError",
          "evalue": "ignored",
          "traceback": [
            "\u001b[0;31m---------------------------------------------------------------------------\u001b[0m",
            "\u001b[0;31mTypeError\u001b[0m                                 Traceback (most recent call last)",
            "\u001b[0;32m<ipython-input-39-748249d4fada>\u001b[0m in \u001b[0;36m<cell line: 1>\u001b[0;34m()\u001b[0m\n\u001b[0;32m----> 1\u001b[0;31m \u001b[0mnano22\u001b[0m\u001b[0;34m.\u001b[0m\u001b[0mmilage1\u001b[0m\u001b[0;34m(\u001b[0m\u001b[0;34m)\u001b[0m\u001b[0;34m\u001b[0m\u001b[0;34m\u001b[0m\u001b[0m\n\u001b[0m",
            "\u001b[0;31mTypeError\u001b[0m: 'int' object is not callable"
          ]
        }
      ]
    },
    {
      "cell_type": "code",
      "source": [
        "print(nano22)"
      ],
      "metadata": {
        "colab": {
          "base_uri": "https://localhost:8080/"
        },
        "id": "-YSMwotqNTd3",
        "outputId": "9542e231-8dfb-4095-b8ee-a47df727a2b1"
      },
      "execution_count": 42,
      "outputs": [
        {
          "output_type": "stream",
          "name": "stdout",
          "text": [
            "<__main__.car object at 0x7f43c82d8c70>\n"
          ]
        }
      ]
    },
    {
      "cell_type": "code",
      "source": [
        "class Person:\n",
        "  def __init__(self,first_name, last_name, age):\n",
        "    self.first_name=first_name\n",
        "    self.last_name= last_name\n",
        "    self.age=age\n",
        "\n",
        "  def __str__(self):\n",
        "    return \" this is the person class\"\n",
        ""
      ],
      "metadata": {
        "id": "FhUAUM3RPbgd"
      },
      "execution_count": 43,
      "outputs": []
    },
    {
      "cell_type": "code",
      "source": [
        "person=Person(\"manish\", \"bisht\", 22)"
      ],
      "metadata": {
        "id": "MIJUSQ-xQaNE"
      },
      "execution_count": 44,
      "outputs": []
    },
    {
      "cell_type": "code",
      "source": [
        "print(person)"
      ],
      "metadata": {
        "colab": {
          "base_uri": "https://localhost:8080/"
        },
        "id": "ucol6nB6QgNR",
        "outputId": "48380cd7-b67e-4388-d08d-1c4bcffeaaf5"
      },
      "execution_count": 45,
      "outputs": [
        {
          "output_type": "stream",
          "name": "stdout",
          "text": [
            " this is the person class\n"
          ]
        }
      ]
    },
    {
      "cell_type": "code",
      "source": [
        "person.age"
      ],
      "metadata": {
        "colab": {
          "base_uri": "https://localhost:8080/"
        },
        "id": "Z6cKZ6hkQhQ4",
        "outputId": "2a5f7935-69cc-4bb2-9a86-b5f619bbced8"
      },
      "execution_count": 48,
      "outputs": [
        {
          "output_type": "execute_result",
          "data": {
            "text/plain": [
              "22"
            ]
          },
          "metadata": {},
          "execution_count": 48
        }
      ]
    },
    {
      "cell_type": "code",
      "source": [
        "person.last_name"
      ],
      "metadata": {
        "colab": {
          "base_uri": "https://localhost:8080/",
          "height": 36
        },
        "id": "447o4gZGQnPF",
        "outputId": "d10e67a5-2dbd-4d7d-a9af-060b7989cba3"
      },
      "execution_count": 49,
      "outputs": [
        {
          "output_type": "execute_result",
          "data": {
            "text/plain": [
              "'bisht'"
            ],
            "application/vnd.google.colaboratory.intrinsic+json": {
              "type": "string"
            }
          },
          "metadata": {},
          "execution_count": 49
        }
      ]
    },
    {
      "cell_type": "code",
      "source": [
        "person.first_name"
      ],
      "metadata": {
        "colab": {
          "base_uri": "https://localhost:8080/",
          "height": 36
        },
        "id": "4vUO0xAjQuBE",
        "outputId": "5f61142b-ebb7-4024-c9a2-28cf11eeb0d6"
      },
      "execution_count": 50,
      "outputs": [
        {
          "output_type": "execute_result",
          "data": {
            "text/plain": [
              "'manish'"
            ],
            "application/vnd.google.colaboratory.intrinsic+json": {
              "type": "string"
            }
          },
          "metadata": {},
          "execution_count": 50
        }
      ]
    },
    {
      "cell_type": "code",
      "source": [
        "class Student:\n",
        "\n",
        "  def __init__(self, name, rollno, joining_date, current_sub):\n",
        "    self.name=name\n",
        "    self.rollno=rollno\n",
        "    self.joining_date=joining_date\n",
        "    self.current_sub=current_sub\n",
        "\n",
        "  def cur_topic(self):\n",
        "    print(\"current topic discussed in class is: \", self.current_sub)\n",
        "\n",
        "  def str_rollno(self):\n",
        "\n",
        "    try:\n",
        "      if type(self.rollno)==str:\n",
        "        print(\"do nothing\")\n",
        "      else:\n",
        "        return str(self.rollno)\n",
        "\n",
        "    except Exception as e:\n",
        "      print(\"this is my error message\", e)\n",
        "\n",
        "  def duration(self, current_date):\n",
        "    print(\"duration of student in my class is: \", current_date -self.joining_date)\n",
        "\n",
        "  def __str__(self):\n",
        "    return \"this is student class\""
      ],
      "metadata": {
        "id": "yLa2OzF9Qyte"
      },
      "execution_count": 64,
      "outputs": []
    },
    {
      "cell_type": "code",
      "source": [
        "s1= Student(\"manish\",44, 2000,\"data science\")"
      ],
      "metadata": {
        "id": "ELVwsnnmStYh"
      },
      "execution_count": 65,
      "outputs": []
    },
    {
      "cell_type": "code",
      "source": [
        "print(s1)"
      ],
      "metadata": {
        "colab": {
          "base_uri": "https://localhost:8080/"
        },
        "id": "oZ-p44MYS05D",
        "outputId": "1e45b0e2-e873-4150-ed2d-e14db059053f"
      },
      "execution_count": 66,
      "outputs": [
        {
          "output_type": "stream",
          "name": "stdout",
          "text": [
            "this is student class\n"
          ]
        }
      ]
    },
    {
      "cell_type": "code",
      "source": [
        "s1.duration(2008)"
      ],
      "metadata": {
        "colab": {
          "base_uri": "https://localhost:8080/"
        },
        "id": "c9Ve9WJWS4yR",
        "outputId": "e1ca3549-e8fa-4b33-9b83-53b25b0991b2"
      },
      "execution_count": 67,
      "outputs": [
        {
          "output_type": "stream",
          "name": "stdout",
          "text": [
            "duration of student in my class is:  8\n"
          ]
        }
      ]
    },
    {
      "cell_type": "code",
      "source": [
        "s1.str_rollno()"
      ],
      "metadata": {
        "colab": {
          "base_uri": "https://localhost:8080/",
          "height": 36
        },
        "id": "1e34_xLqS_s6",
        "outputId": "04e8008f-1add-45b1-8d53-9fefb3a4b371"
      },
      "execution_count": 68,
      "outputs": [
        {
          "output_type": "execute_result",
          "data": {
            "text/plain": [
              "'44'"
            ],
            "application/vnd.google.colaboratory.intrinsic+json": {
              "type": "string"
            }
          },
          "metadata": {},
          "execution_count": 68
        }
      ]
    },
    {
      "cell_type": "code",
      "source": [
        "s1.cur_topic()"
      ],
      "metadata": {
        "colab": {
          "base_uri": "https://localhost:8080/"
        },
        "id": "OG6A3EU7TD4b",
        "outputId": "9a2d5220-27c3-485a-df95-251acfb8d474"
      },
      "execution_count": 69,
      "outputs": [
        {
          "output_type": "stream",
          "name": "stdout",
          "text": [
            "current topic discussed in class is:  data science\n"
          ]
        }
      ]
    },
    {
      "cell_type": "code",
      "source": [
        "# default constructor\n",
        "\n",
        "class Student:\n",
        "  def who(self):\n",
        "    print(\"i am a student\")"
      ],
      "metadata": {
        "id": "XLwOAdV8TLVC"
      },
      "execution_count": 70,
      "outputs": []
    },
    {
      "cell_type": "code",
      "source": [
        "s1=Student()"
      ],
      "metadata": {
        "id": "cro5tjQGiRgS"
      },
      "execution_count": 71,
      "outputs": []
    },
    {
      "cell_type": "code",
      "source": [
        "s1.who()"
      ],
      "metadata": {
        "colab": {
          "base_uri": "https://localhost:8080/"
        },
        "id": "BG7J1yZtiUaX",
        "outputId": "8329c709-997b-4cf0-90f9-0dd146628f02"
      },
      "execution_count": 72,
      "outputs": [
        {
          "output_type": "stream",
          "name": "stdout",
          "text": [
            "i am a student\n"
          ]
        }
      ]
    },
    {
      "cell_type": "code",
      "source": [
        "# non parameterized constructor\n",
        "class Company:\n",
        "\n",
        "  def __init__(self):\n",
        "    self.name=\"ineuron\"\n",
        "    self.address=\"pune\"\n",
        "\n",
        "  def show(self):\n",
        "    print(\"name\", self.name, \"address\", self.address)"
      ],
      "metadata": {
        "id": "b29FxriDiV11"
      },
      "execution_count": 74,
      "outputs": []
    },
    {
      "cell_type": "code",
      "source": [
        "cmp=Company()"
      ],
      "metadata": {
        "id": "xVDvmwyyijAe"
      },
      "execution_count": 75,
      "outputs": []
    },
    {
      "cell_type": "code",
      "source": [
        "cmp.show()"
      ],
      "metadata": {
        "colab": {
          "base_uri": "https://localhost:8080/"
        },
        "id": "5oX06Xa2ivuP",
        "outputId": "620bdb95-cd69-490a-94b3-3b487e137910"
      },
      "execution_count": 76,
      "outputs": [
        {
          "output_type": "stream",
          "name": "stdout",
          "text": [
            "name ineuron address pune\n"
          ]
        }
      ]
    },
    {
      "cell_type": "code",
      "source": [
        "# parameterized constructor"
      ],
      "metadata": {
        "id": "SBqI3u1Cixpr"
      },
      "execution_count": 77,
      "outputs": []
    },
    {
      "cell_type": "code",
      "source": [
        "class pub_mod:\n",
        "\n",
        "  def __init__(self, name, age):\n",
        "    self.name=name\n",
        "    self.age=age\n",
        "\n",
        "  def age1(self):\n",
        "    print(\"age1\", self.age)\n"
      ],
      "metadata": {
        "id": "pIBriun3i4OW"
      },
      "execution_count": 85,
      "outputs": []
    },
    {
      "cell_type": "code",
      "source": [
        "c1=pub_mod(\"manish\", 24)"
      ],
      "metadata": {
        "id": "PoVdnWGYjpD0"
      },
      "execution_count": 86,
      "outputs": []
    },
    {
      "cell_type": "code",
      "source": [
        "c1.age1()"
      ],
      "metadata": {
        "colab": {
          "base_uri": "https://localhost:8080/"
        },
        "id": "C3hkTvKAjyQy",
        "outputId": "da492bf1-5049-4052-b535-7610034248e7"
      },
      "execution_count": 87,
      "outputs": [
        {
          "output_type": "stream",
          "name": "stdout",
          "text": [
            "age1 24\n"
          ]
        }
      ]
    },
    {
      "cell_type": "code",
      "source": [
        "#modifiers"
      ],
      "metadata": {
        "id": "KR_y7UEaj2A_"
      },
      "execution_count": 88,
      "outputs": []
    },
    {
      "cell_type": "code",
      "source": [
        "class Rectangle:\n",
        "\n",
        "  __length =0\n",
        "  __breadth =0\n",
        "\n",
        "  def __init__(self):\n",
        "    self.length=5\n",
        "    self.__breadth=3\n",
        "\n",
        "    print(self.__length)\n",
        "    print(self.__breadth)"
      ],
      "metadata": {
        "id": "bmqYm5LcuQj6"
      },
      "execution_count": 8,
      "outputs": []
    },
    {
      "cell_type": "code",
      "source": [
        "r1=Rectangle()"
      ],
      "metadata": {
        "colab": {
          "base_uri": "https://localhost:8080/"
        },
        "id": "WeCOIqwku2AS",
        "outputId": "2b5c5751-f08b-42bf-bb71-e6a79febb3cf"
      },
      "execution_count": 9,
      "outputs": [
        {
          "output_type": "stream",
          "name": "stdout",
          "text": [
            "0\n",
            "3\n"
          ]
        }
      ]
    },
    {
      "cell_type": "code",
      "source": [
        "r1.length"
      ],
      "metadata": {
        "colab": {
          "base_uri": "https://localhost:8080/"
        },
        "id": "vMNjrF4BlmLz",
        "outputId": "41391ebd-db25-49b3-d10d-a3cd997fb197"
      },
      "execution_count": 10,
      "outputs": [
        {
          "output_type": "execute_result",
          "data": {
            "text/plain": [
              "5"
            ]
          },
          "metadata": {},
          "execution_count": 10
        }
      ]
    },
    {
      "cell_type": "markdown",
      "source": [
        "- class - public, protected, private\n",
        "- object - public\n",
        "\n",
        "\n",
        "1.   single underscore ('_') is protected.\n",
        "2.   double underscore ('__') is private.\n",
        "\n"
      ],
      "metadata": {
        "id": "7TMtVGiSk_N5"
      }
    },
    {
      "cell_type": "code",
      "source": [
        "class Rectangle:\n",
        "\n",
        "  #__length =0\n",
        "  #__breadth =0\n",
        "\n",
        "  def __init__(self):\n",
        "    self.length=5     ----->>> ### public\n",
        "    self.__breadth=3  ----->>> ### private\n",
        "\n",
        "    print(self.length)\n",
        "    print(self.__breadth)\n",
        "\n",
        "  def show(self):\n",
        "    print(\"this is printing private vaiable\", self.__breadth)\n",
        "\n",
        "rect=Rectangle()\n",
        "print(rect.length)\n",
        "print(rect.breadth)"
      ],
      "metadata": {
        "colab": {
          "base_uri": "https://localhost:8080/",
          "height": 262
        },
        "id": "7Dj3Joplu7gB",
        "outputId": "f9bf4d0a-c625-4eeb-e0e6-8b1f590abdab"
      },
      "execution_count": 12,
      "outputs": [
        {
          "output_type": "stream",
          "name": "stdout",
          "text": [
            "5\n",
            "3\n",
            "5\n"
          ]
        },
        {
          "output_type": "error",
          "ename": "AttributeError",
          "evalue": "ignored",
          "traceback": [
            "\u001b[0;31m---------------------------------------------------------------------------\u001b[0m",
            "\u001b[0;31mAttributeError\u001b[0m                            Traceback (most recent call last)",
            "\u001b[0;32m<ipython-input-12-7aaee2a520b9>\u001b[0m in \u001b[0;36m<cell line: 18>\u001b[0;34m()\u001b[0m\n\u001b[1;32m     16\u001b[0m \u001b[0mrect\u001b[0m\u001b[0;34m=\u001b[0m\u001b[0mRectangle\u001b[0m\u001b[0;34m(\u001b[0m\u001b[0;34m)\u001b[0m\u001b[0;34m\u001b[0m\u001b[0;34m\u001b[0m\u001b[0m\n\u001b[1;32m     17\u001b[0m \u001b[0mprint\u001b[0m\u001b[0;34m(\u001b[0m\u001b[0mrect\u001b[0m\u001b[0;34m.\u001b[0m\u001b[0mlength\u001b[0m\u001b[0;34m)\u001b[0m\u001b[0;34m\u001b[0m\u001b[0;34m\u001b[0m\u001b[0m\n\u001b[0;32m---> 18\u001b[0;31m \u001b[0mprint\u001b[0m\u001b[0;34m(\u001b[0m\u001b[0mrect\u001b[0m\u001b[0;34m.\u001b[0m\u001b[0mbreadth\u001b[0m\u001b[0;34m)\u001b[0m\u001b[0;34m\u001b[0m\u001b[0;34m\u001b[0m\u001b[0m\n\u001b[0m",
            "\u001b[0;31mAttributeError\u001b[0m: 'Rectangle' object has no attribute 'breadth'"
          ]
        }
      ]
    },
    {
      "cell_type": "code",
      "source": [
        "rect.show()"
      ],
      "metadata": {
        "colab": {
          "base_uri": "https://localhost:8080/"
        },
        "id": "-OLUoSUVo0tm",
        "outputId": "f65b032e-7b6d-497b-e810-10487a7cf34f"
      },
      "execution_count": 13,
      "outputs": [
        {
          "output_type": "stream",
          "name": "stdout",
          "text": [
            "this is printing private vaiable 3\n"
          ]
        }
      ]
    },
    {
      "cell_type": "code",
      "source": [
        "class test():\n",
        "\n",
        "  def __init__(self):\n",
        "    self.a=4\n",
        "    self._b=5\n",
        "    self.__c=8\n",
        "\n",
        "    print(\"public\", self.a,\"protected: \", self._b,\"private: \", self.__c)\n"
      ],
      "metadata": {
        "id": "49etyLNDpi3c"
      },
      "execution_count": 20,
      "outputs": []
    },
    {
      "cell_type": "code",
      "source": [
        "t1=test()"
      ],
      "metadata": {
        "colab": {
          "base_uri": "https://localhost:8080/"
        },
        "id": "xw4v5A2Krkzk",
        "outputId": "d28dcbba-0b4e-4825-c4cd-014e3b3b7a1c"
      },
      "execution_count": 21,
      "outputs": [
        {
          "output_type": "stream",
          "name": "stdout",
          "text": [
            "public 4 protected:  5 private:  8\n"
          ]
        }
      ]
    },
    {
      "cell_type": "code",
      "source": [
        "t1.a"
      ],
      "metadata": {
        "colab": {
          "base_uri": "https://localhost:8080/"
        },
        "id": "8G_cvYr5rvEI",
        "outputId": "e351ad0f-7b86-4dbc-c83d-35532a2775fd"
      },
      "execution_count": 22,
      "outputs": [
        {
          "output_type": "execute_result",
          "data": {
            "text/plain": [
              "4"
            ]
          },
          "metadata": {},
          "execution_count": 22
        }
      ]
    },
    {
      "cell_type": "code",
      "source": [
        "t1.b"
      ],
      "metadata": {
        "colab": {
          "base_uri": "https://localhost:8080/",
          "height": 175
        },
        "id": "0PzOLf9mr-cj",
        "outputId": "e95ed802-c235-4574-bd8f-a9316477b8df"
      },
      "execution_count": 23,
      "outputs": [
        {
          "output_type": "error",
          "ename": "AttributeError",
          "evalue": "ignored",
          "traceback": [
            "\u001b[0;31m---------------------------------------------------------------------------\u001b[0m",
            "\u001b[0;31mAttributeError\u001b[0m                            Traceback (most recent call last)",
            "\u001b[0;32m<ipython-input-23-786c0d93a142>\u001b[0m in \u001b[0;36m<cell line: 1>\u001b[0;34m()\u001b[0m\n\u001b[0;32m----> 1\u001b[0;31m \u001b[0mt1\u001b[0m\u001b[0;34m.\u001b[0m\u001b[0mb\u001b[0m\u001b[0;34m\u001b[0m\u001b[0;34m\u001b[0m\u001b[0m\n\u001b[0m",
            "\u001b[0;31mAttributeError\u001b[0m: 'test' object has no attribute 'b'"
          ]
        }
      ]
    },
    {
      "cell_type": "code",
      "source": [
        "t1.c"
      ],
      "metadata": {
        "colab": {
          "base_uri": "https://localhost:8080/",
          "height": 175
        },
        "id": "bNo4rFQGr_AF",
        "outputId": "a054428a-c1f1-43a7-dd40-2589cbd68f85"
      },
      "execution_count": 24,
      "outputs": [
        {
          "output_type": "error",
          "ename": "AttributeError",
          "evalue": "ignored",
          "traceback": [
            "\u001b[0;31m---------------------------------------------------------------------------\u001b[0m",
            "\u001b[0;31mAttributeError\u001b[0m                            Traceback (most recent call last)",
            "\u001b[0;32m<ipython-input-24-7a79852b97f8>\u001b[0m in \u001b[0;36m<cell line: 1>\u001b[0;34m()\u001b[0m\n\u001b[0;32m----> 1\u001b[0;31m \u001b[0mt1\u001b[0m\u001b[0;34m.\u001b[0m\u001b[0mc\u001b[0m\u001b[0;34m\u001b[0m\u001b[0;34m\u001b[0m\u001b[0m\n\u001b[0m",
            "\u001b[0;31mAttributeError\u001b[0m: 'test' object has no attribute 'c'"
          ]
        }
      ]
    },
    {
      "cell_type": "code",
      "source": [
        "class test():\n",
        "\n",
        "  def __init__(self):\n",
        "    self.a=4\n",
        "    self._b=5\n",
        "    self.__c=8\n",
        "\n",
        "    print(\"public\", self.a,\"protected: \", self._b,\"private: \", self.__c)\n",
        "\n",
        "  def show(self):\n",
        "    print(\"protected: \", self._b, \"private: \", self.__c)"
      ],
      "metadata": {
        "id": "pVsevjVPr_r1"
      },
      "execution_count": 25,
      "outputs": []
    },
    {
      "cell_type": "code",
      "source": [
        "t2=test()"
      ],
      "metadata": {
        "colab": {
          "base_uri": "https://localhost:8080/"
        },
        "id": "oVb5X0yAsjrf",
        "outputId": "3116555d-ba8e-40bb-a3b9-4b48293fcce6"
      },
      "execution_count": 29,
      "outputs": [
        {
          "output_type": "stream",
          "name": "stdout",
          "text": [
            "public 4 protected:  5 private:  8\n"
          ]
        }
      ]
    },
    {
      "cell_type": "code",
      "source": [
        "t2.show()"
      ],
      "metadata": {
        "colab": {
          "base_uri": "https://localhost:8080/"
        },
        "id": "k5CHmHIfslaz",
        "outputId": "c12cf8ac-1672-49e0-fa09-a0a0a48df336"
      },
      "execution_count": 30,
      "outputs": [
        {
          "output_type": "stream",
          "name": "stdout",
          "text": [
            "protected:  5 private:  8\n"
          ]
        }
      ]
    },
    {
      "cell_type": "code",
      "source": [
        "t2._test__c # name mangling"
      ],
      "metadata": {
        "colab": {
          "base_uri": "https://localhost:8080/"
        },
        "id": "7ctu8QVnsmgz",
        "outputId": "7df169bb-a809-4a82-e511-774d6ebfd10c"
      },
      "execution_count": 36,
      "outputs": [
        {
          "output_type": "execute_result",
          "data": {
            "text/plain": [
              "8"
            ]
          },
          "metadata": {},
          "execution_count": 36
        }
      ]
    },
    {
      "cell_type": "code",
      "source": [
        "class Tyres:\n",
        "\n",
        "  def __init__(self,brach, belted_bias, opt_pressure):\n",
        "    self.brach= brach\n",
        "    self.belted_bias=belted_bias\n",
        "    self.opt_pressure=opt_pressure\n",
        "\n",
        "  def __str__(self):\n",
        "    return (\"tyres: \\n \\n \\tBranch\" + self.brach +\n",
        "            \"\\n \\t Belted_bias\" + str(self.belted_bias) +\n",
        "            \"\\n \\t optimal pressure\" + str(self.opt_pressure))\n",
        "\n",
        "class Engine:\n",
        "  def __init__(self, fuel_type, noise_level):\n",
        "    self.fuel_type=fuel_type\n",
        "    self.noise_level=noise_level\n",
        "\n",
        "  def __str__(self):\n",
        "    return (\"Engine: \\n \\t Fuel type\" + self.fuel_type +\n",
        "            \"\\n \\t Noise level: \" + str(self.noise_level))\n",
        "\n",
        "class Body:\n",
        "\n",
        "  def __init__(self, size):\n",
        "    self.size=size\n",
        "\n",
        "  def __str__(self):\n",
        "      return (\"body: \\n \\t size\" + self.size)\n",
        "\n",
        "class Car:\n",
        "\n",
        "  def __init__(self,tyre, engine, body):\n",
        "\n",
        "    self.tyre=tyre\n",
        "    self.engine=engine\n",
        "    self.body=body\n",
        "\n",
        "  def __str__(self):\n",
        "    return (str(self.tyre) + \"\\n\" +  str(self.engine) + \"\\n\" + str(self.body))\n"
      ],
      "metadata": {
        "id": "hu3uDUjgtUoz"
      },
      "execution_count": 73,
      "outputs": []
    },
    {
      "cell_type": "code",
      "source": [
        "t=Tyres('Pune', True, 3.22)\n",
        "e=Engine(\"Diesel\", 3)\n",
        "b=Body(\"Medium\")"
      ],
      "metadata": {
        "id": "EHlwKNAyxPxx"
      },
      "execution_count": 74,
      "outputs": []
    },
    {
      "cell_type": "code",
      "source": [
        "c=Car(t,e,b)\n",
        "print(c)"
      ],
      "metadata": {
        "colab": {
          "base_uri": "https://localhost:8080/"
        },
        "id": "VNXmjd5cx7gD",
        "outputId": "bbe1b509-400c-4c47-9af2-2c2579c75ea9"
      },
      "execution_count": 75,
      "outputs": [
        {
          "output_type": "stream",
          "name": "stdout",
          "text": [
            "tyres: \n",
            " \n",
            " \tBranchPune\n",
            " \t Belted_biasTrue\n",
            " \t optimal pressure3.22\n",
            "Engine: \n",
            " \t Fuel typeDiesel\n",
            " \t Noise level: 3\n",
            "body: \n",
            " \t sizeMedium\n"
          ]
        }
      ]
    },
    {
      "cell_type": "code",
      "source": [
        "dir(print)"
      ],
      "metadata": {
        "colab": {
          "base_uri": "https://localhost:8080/"
        },
        "id": "XjYNB8dIzJKs",
        "outputId": "9ac8a98f-cbbe-4b2b-e543-1b138fb2dffc"
      },
      "execution_count": 76,
      "outputs": [
        {
          "output_type": "execute_result",
          "data": {
            "text/plain": [
              "['__call__',\n",
              " '__class__',\n",
              " '__delattr__',\n",
              " '__dir__',\n",
              " '__doc__',\n",
              " '__eq__',\n",
              " '__format__',\n",
              " '__ge__',\n",
              " '__getattribute__',\n",
              " '__gt__',\n",
              " '__hash__',\n",
              " '__init__',\n",
              " '__init_subclass__',\n",
              " '__le__',\n",
              " '__lt__',\n",
              " '__module__',\n",
              " '__name__',\n",
              " '__ne__',\n",
              " '__new__',\n",
              " '__qualname__',\n",
              " '__reduce__',\n",
              " '__reduce_ex__',\n",
              " '__repr__',\n",
              " '__self__',\n",
              " '__setattr__',\n",
              " '__sizeof__',\n",
              " '__str__',\n",
              " '__subclasshook__',\n",
              " '__text_signature__']"
            ]
          },
          "metadata": {},
          "execution_count": 76
        }
      ]
    },
    {
      "cell_type": "code",
      "source": [],
      "metadata": {
        "id": "brJ-vvBl4NlG"
      },
      "execution_count": null,
      "outputs": []
    }
  ]
}