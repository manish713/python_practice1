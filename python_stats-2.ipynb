{
 "cells": [
  {
   "cell_type": "code",
   "execution_count": 89,
   "id": "57fe9486",
   "metadata": {},
   "outputs": [],
   "source": [
    "import numpy as np\n",
    "from statistics import mode"
   ]
  },
  {
   "cell_type": "markdown",
   "id": "bb149b3f",
   "metadata": {},
   "source": [
    "## Sample & Population"
   ]
  },
  {
   "cell_type": "code",
   "execution_count": 90,
   "id": "b3c0e970",
   "metadata": {},
   "outputs": [],
   "source": [
    "population = np.random.randint(10,20,50)"
   ]
  },
  {
   "cell_type": "code",
   "execution_count": 91,
   "id": "8dd4ae28",
   "metadata": {},
   "outputs": [
    {
     "data": {
      "text/plain": [
       "array([15, 19, 13, 15, 16, 16, 16, 11, 11, 15, 10, 14, 16, 10, 17, 10, 18,\n",
       "       10, 17, 13, 17, 12, 17, 17, 18, 14, 12, 11, 13, 13, 10, 18, 19, 13,\n",
       "       13, 14, 11, 18, 10, 18, 13, 14, 12, 19, 13, 18, 17, 17, 15, 18])"
      ]
     },
     "execution_count": 91,
     "metadata": {},
     "output_type": "execute_result"
    }
   ],
   "source": [
    "population"
   ]
  },
  {
   "cell_type": "code",
   "execution_count": 92,
   "id": "7bf9fdf1",
   "metadata": {},
   "outputs": [
    {
     "data": {
      "text/plain": [
       "14.52"
      ]
     },
     "execution_count": 92,
     "metadata": {},
     "output_type": "execute_result"
    }
   ],
   "source": [
    "np.mean(population)"
   ]
  },
  {
   "cell_type": "code",
   "execution_count": 93,
   "id": "a39b7d1a",
   "metadata": {},
   "outputs": [
    {
     "data": {
      "text/plain": [
       "14.5"
      ]
     },
     "execution_count": 93,
     "metadata": {},
     "output_type": "execute_result"
    }
   ],
   "source": [
    "np.median(population)"
   ]
  },
  {
   "cell_type": "code",
   "execution_count": 94,
   "id": "eeaa394f",
   "metadata": {},
   "outputs": [
    {
     "data": {
      "text/plain": [
       "13"
      ]
     },
     "execution_count": 94,
     "metadata": {},
     "output_type": "execute_result"
    }
   ],
   "source": [
    "# from statistics\n",
    "mode(population)"
   ]
  },
  {
   "cell_type": "code",
   "execution_count": 95,
   "id": "ee554439",
   "metadata": {},
   "outputs": [
    {
     "name": "stdout",
     "output_type": "stream",
     "text": [
      "mean of the population 14.52\n",
      "median of the population 14.5\n",
      "mode of the population 13\n"
     ]
    }
   ],
   "source": [
    "print(f\"mean of the population {np.mean(population )}\")\n",
    "print(f\"median of the population {np.median(population )}\")\n",
    "print(f\"mode of the population {mode(population )}\")"
   ]
  },
  {
   "cell_type": "code",
   "execution_count": 96,
   "id": "346181fc",
   "metadata": {},
   "outputs": [
    {
     "data": {
      "text/plain": [
       "11"
      ]
     },
     "execution_count": 96,
     "metadata": {},
     "output_type": "execute_result"
    }
   ],
   "source": [
    "np.random.choice(population)"
   ]
  },
  {
   "cell_type": "code",
   "execution_count": 97,
   "id": "a02457d3",
   "metadata": {},
   "outputs": [
    {
     "data": {
      "text/plain": [
       "array([14, 15, 17, 17, 18])"
      ]
     },
     "execution_count": 97,
     "metadata": {},
     "output_type": "execute_result"
    }
   ],
   "source": [
    "# for multiple random values\n",
    "np.random.choice(population,5)"
   ]
  },
  {
   "cell_type": "code",
   "execution_count": 98,
   "id": "982faab7",
   "metadata": {},
   "outputs": [],
   "source": [
    "sample=np.random.choice(population,20)"
   ]
  },
  {
   "cell_type": "code",
   "execution_count": 99,
   "id": "11a4ed37",
   "metadata": {},
   "outputs": [
    {
     "name": "stdout",
     "output_type": "stream",
     "text": [
      "mean of the sample 13.75\n",
      "median of the sample 14.0\n",
      "mode of the sample 10\n"
     ]
    }
   ],
   "source": [
    "print(f\"mean of the sample {np.mean(sample )}\")\n",
    "print(f\"median of the sample {np.median(sample )}\")\n",
    "print(f\"mode of the sample {mode(sample )}\")"
   ]
  },
  {
   "cell_type": "code",
   "execution_count": 100,
   "id": "a05cd46e",
   "metadata": {},
   "outputs": [],
   "source": [
    "sample1=np.random.choice(population,20)\n",
    "sample2=np.random.choice(population,20)\n",
    "sample3=np.random.choice(population,20)\n",
    "sample4=np.random.choice(population,20)"
   ]
  },
  {
   "cell_type": "code",
   "execution_count": 101,
   "id": "5206e39e",
   "metadata": {},
   "outputs": [
    {
     "name": "stdout",
     "output_type": "stream",
     "text": [
      "[11 13 16 18 13 12 11 13 13 13 12 10 13 12 16 17 13 18 15 13]\n",
      "------------------------------------------------------------\n",
      "[16 14 12 13 11 10 19 13 16 12 16 18 18 18 13 18 15 15 16 13]\n",
      "------------------------------------------------------------\n",
      "[10 13 13 17 19 12 10 16 13 18 13 19 18 17 17 14 18 13 14 10]\n",
      "------------------------------------------------------------\n",
      "[13 19 15 16 17 16 18 10 11 14 19 13 10 13 17 17 17 13 16 11]\n"
     ]
    }
   ],
   "source": [
    "print(sample1)\n",
    "print(60*\"-\")\n",
    "print(sample2)\n",
    "print(60*\"-\")\n",
    "print(sample3)\n",
    "print(60*\"-\")\n",
    "print(sample4)"
   ]
  },
  {
   "cell_type": "code",
   "execution_count": 102,
   "id": "547b9f17",
   "metadata": {},
   "outputs": [],
   "source": [
    "mean_of_samples=[]\n",
    "\n",
    "all_sample=[sample1,sample2,sample3,sample4]\n",
    "\n",
    "for sample in all_sample:\n",
    "    mean_of_samples.append(np.mean(sample))"
   ]
  },
  {
   "cell_type": "code",
   "execution_count": 103,
   "id": "abb7e108",
   "metadata": {},
   "outputs": [
    {
     "data": {
      "text/plain": [
       "[13.6, 14.8, 14.7, 14.75]"
      ]
     },
     "execution_count": 103,
     "metadata": {},
     "output_type": "execute_result"
    }
   ],
   "source": [
    "mean_of_samples"
   ]
  },
  {
   "cell_type": "markdown",
   "id": "ac98640d",
   "metadata": {},
   "source": [
    "\n",
    "# central limit theorem"
   ]
  },
  {
   "cell_type": "code",
   "execution_count": 104,
   "id": "32374497",
   "metadata": {},
   "outputs": [],
   "source": [
    "population = np.random.binomial(10,0.5,1000)"
   ]
  },
  {
   "cell_type": "code",
   "execution_count": 105,
   "id": "ab63ca75",
   "metadata": {},
   "outputs": [
    {
     "name": "stdout",
     "output_type": "stream",
     "text": [
      "[ 3  4  6  9  6  1  5  8  7  3  6  6  4  3  3  3  6  6  5  6  5  4  4  3\n",
      "  3  2  4  1  3  6  6  7  4  3  6  6  7  6  5  6  6  5  6  5  9  3  3  4\n",
      "  5  5  3  4  6  4  7  6  6  4  6  5  5  2  5  6  4  6  7  3  4  5  5  5\n",
      "  6  8  7  5  4  2  6  6  6  5  8  4  5  7  4  5  6  4  4  6  4  4  7  4\n",
      "  8  4  6  4  7  5  4  5  4  3  8  7  4  6  5  6  6  5  5  6  6  4  7  3\n",
      "  4  2  5  6  7  5  6  6  4  6  4  4  6  6  6  6  5  2  5  4  6  5  2  6\n",
      "  6  7  4  6  5  4  6  5  2  5  6  6  4  2  7  5  5  7  6  6  8  3  5  4\n",
      "  5  2  5  5  5  7  4  4  2  6  3  5  7  3  4  4  5  3  3  3  3  6  6  3\n",
      "  3  5  6  7  7  7  8  6  3  4  3  7  4  7  4  6  3  3  7  5  5  7  6  6\n",
      "  4  5  5  5  6  6  3  4  4  3  5  6  6  6  6  4  5  4  3  3  3  6  6  5\n",
      "  9  4  3  8  6  5  3  6  3  5  6  5  5  7  5  3  5  7  3  5  2  3  7  5\n",
      "  4  6  6  4  5  8  3  4  3  5  3  7  4  6  5  6  5  8  2  4  5  5  4  4\n",
      "  6  5  6  5  6  5  3  5  5  4  5  5  4  6  6  4  6  6  4  6  6  6  6  6\n",
      "  6  6  6  4  3  2  5  1  4  5  5  3  2  2  5  4  3  5  7  4  3  7  3  4\n",
      "  6  5  6  7  3  4  2  5  5  4  5  5  5  5  5  5  3  6  5  6  7  9  6  5\n",
      "  4  3  6  4  6  5  6  4  6  8  3  1  5  6  6  4  5  6  4  5  6  3  7  6\n",
      "  7  5  7  7  5  6  6  5  6  7  2  5  4  4  5  6  6  8  6  5  2  6  8  8\n",
      "  3  6  6  4  4  6  4  7  2  4  6  4  2  3  5  8  4  3  4  5  5  6  5  5\n",
      "  4  5  4  5  2  5  5  5  7  6  4  4  4  5  6  5  4  6  7  4  6  6  7  3\n",
      "  6  3  5  7  8  5  6  2  5  5  7  7  6  6  7  2  5  5  5  5  7  6  8  6\n",
      "  4  5  9  7  5  5  4  6  4  3  5  3  2  4  4  3  5  3  8  4  6  7  7  7\n",
      "  9  5  4  4  5  5  4  6  2  7  6  5  5  6  2  7  4  4  4  5  3  4  4  4\n",
      "  3  5  4  5  2  4  6  7  5  2  6  5  5  5  5  6  3  6  4  6  6  4  5  5\n",
      "  5  6  5  6  4  5  6  5  8  5  5  4  7  3  5  7  5  4  8  5  6  5  6  4\n",
      "  2  5  6  6  5  4  5  5  5  5  6  7  5  6  8  4  4  5  7  4  6  4  4  3\n",
      "  4  4  4  3  4  4  6  5  6  6  4  5  9  6  5  5  8  2  5  6  5  6  6  5\n",
      "  6  5  5  4  1  6  5  3  6  5  6  8  5  8  5  5  7  3  5  4  5  4  8  6\n",
      "  5  4  4  4  3  5  4  7  9  5  6  5  5  3  3  7  4  3  4  6  5  6  5  5\n",
      "  7  5  2  1  5  5  6  7  6  5  3  6  6  8  5  6  5  5  6  5  7  6  3  5\n",
      "  8  6  5  6  6  3  5  5  7  5  4  8  9  6  6  5  3  6  5  6  3  3  5  8\n",
      "  8  7  7  2  3  4  8  3  4  5  7  5  5  5  4  8  6  8  4  6  6  6  8  7\n",
      "  5  4  7  3  3  5  5  4  5  6  4  6  3  3  5  3  6  3  4  3  4  4  7  5\n",
      "  5  5  6  6  8  6  6  2  7  4  5  6  6  4  6  3  5  8  3  6  4  5  2  5\n",
      "  7  1  6  5  6  7  4  5  5  4  8  8  5  8  5  3  4  7  4  4  7  5  3  3\n",
      "  6  3 10  6  7  5  5  5  5  3  5  3  3  6  7  3  6  3  5  4  6  6  4  6\n",
      "  6  7  2  4  8  6  7  6  5  6  4  7  6  5  5  6  2  6  6  7  5  7  3  7\n",
      "  4  6  5  4  3  3  4  5  5  5  5  5  5  3  4  7  3  5  6  6  7  2  6  6\n",
      "  7  5  4  8  6  4  5  4  3  7  6  5  7  4  4  4  3  5  5  3  5  7  7  7\n",
      "  4  7  5  3  5  6  6  5  5  7  3  4  5  7  6  2  5  7  5  5  7  4  4  7\n",
      "  7  4  5  7  3  3  7  6  5  5  4  6  2  4  4  3  2  3  4  2  7  3  5  5\n",
      "  2  5  6  5  4  4  5  5  6  5  4  5  7  4  5  5  7  6  6  9  3  2  4  5\n",
      "  3  4  6  5  6  6  2  5  5  5  4  3  6  7  5  6]\n"
     ]
    }
   ],
   "source": [
    "print(population)"
   ]
  },
  {
   "cell_type": "code",
   "execution_count": 106,
   "id": "1bcb8d0a",
   "metadata": {},
   "outputs": [
    {
     "data": {
      "text/plain": [
       "1000"
      ]
     },
     "execution_count": 106,
     "metadata": {},
     "output_type": "execute_result"
    }
   ],
   "source": [
    "len(population)"
   ]
  },
  {
   "cell_type": "code",
   "execution_count": 107,
   "id": "513dce8f",
   "metadata": {},
   "outputs": [
    {
     "name": "stderr",
     "output_type": "stream",
     "text": [
      "C:\\Users\\manis\\AppData\\Local\\Temp\\ipykernel_53148\\2113714884.py:2: UserWarning: \n",
      "\n",
      "`distplot` is a deprecated function and will be removed in seaborn v0.14.0.\n",
      "\n",
      "Please adapt your code to use either `displot` (a figure-level function with\n",
      "similar flexibility) or `histplot` (an axes-level function for histograms).\n",
      "\n",
      "For a guide to updating your code to use the new functions, please see\n",
      "https://gist.github.com/mwaskom/de44147ed2974457ad6372750bbe5751\n",
      "\n",
      "  sns.distplot(population)\n"
     ]
    },
    {
     "data": {
      "text/plain": [
       "<Axes: ylabel='Density'>"
      ]
     },
     "execution_count": 107,
     "metadata": {},
     "output_type": "execute_result"
    },
    {
     "data": {
      "image/png": "[encoded data removed]",
      "text/plain": [
       "<Figure size 640x480 with 1 Axes>"
      ]
     },
     "metadata": {},
     "output_type": "display_data"
    }
   ],
   "source": [
    "import seaborn as sns\n",
    "sns.distplot(population)"
   ]
  },
  {
   "cell_type": "code",
   "execution_count": 108,
   "id": "53e82147",
   "metadata": {},
   "outputs": [
    {
     "data": {
      "text/plain": [
       "1000"
      ]
     },
     "execution_count": 108,
     "metadata": {},
     "output_type": "execute_result"
    }
   ],
   "source": [
    "len(population)"
   ]
  },
  {
   "cell_type": "code",
   "execution_count": 109,
   "id": "b0834a1f",
   "metadata": {},
   "outputs": [],
   "source": [
    "size = int(len(population)*0.30)"
   ]
  },
  {
   "cell_type": "code",
   "execution_count": 110,
   "id": "c9695599",
   "metadata": {},
   "outputs": [],
   "source": [
    "sample_mean=[]\n",
    "for i in range(1,31):\n",
    "    sample=np.random.choice(population,size=size)\n",
    "    sample_mean.append(np.mean(sample))"
   ]
  },
  {
   "cell_type": "code",
   "execution_count": 111,
   "id": "41448691",
   "metadata": {},
   "outputs": [
    {
     "data": {
      "text/plain": [
       "[4.986666666666666,\n",
       " 4.886666666666667,\n",
       " 4.95,\n",
       " 5.083333333333333,\n",
       " 4.966666666666667,\n",
       " 4.966666666666667,\n",
       " 4.96,\n",
       " 5.013333333333334,\n",
       " 5.096666666666667,\n",
       " 5.1,\n",
       " 5.033333333333333,\n",
       " 5.066666666666666,\n",
       " 4.8533333333333335,\n",
       " 5.02,\n",
       " 4.906666666666666,\n",
       " 5.023333333333333,\n",
       " 5.12,\n",
       " 4.873333333333333,\n",
       " 5.22,\n",
       " 5.066666666666666,\n",
       " 5.093333333333334,\n",
       " 5.093333333333334,\n",
       " 5.053333333333334,\n",
       " 4.92,\n",
       " 4.946666666666666,\n",
       " 5.1033333333333335,\n",
       " 5.12,\n",
       " 5.15,\n",
       " 5.1,\n",
       " 5.263333333333334]"
      ]
     },
     "execution_count": 111,
     "metadata": {},
     "output_type": "execute_result"
    }
   ],
   "source": [
    "sample_mean"
   ]
  },
  {
   "cell_type": "code",
   "execution_count": 112,
   "id": "a7e61c60",
   "metadata": {},
   "outputs": [
    {
     "name": "stderr",
     "output_type": "stream",
     "text": [
      "C:\\Users\\manis\\AppData\\Local\\Temp\\ipykernel_53148\\514007480.py:1: UserWarning: \n",
      "\n",
      "`distplot` is a deprecated function and will be removed in seaborn v0.14.0.\n",
      "\n",
      "Please adapt your code to use either `displot` (a figure-level function with\n",
      "similar flexibility) or `histplot` (an axes-level function for histograms).\n",
      "\n",
      "For a guide to updating your code to use the new functions, please see\n",
      "https://gist.github.com/mwaskom/de44147ed2974457ad6372750bbe5751\n",
      "\n",
      "  sns.distplot(sample_mean)\n"
     ]
    },
    {
     "data": {
      "text/plain": [
       "<Axes: ylabel='Density'>"
      ]
     },
     "execution_count": 112,
     "metadata": {},
     "output_type": "execute_result"
    },
    {
     "data": {
      "image/png": "[encoded data removed]",
      "text/plain": [
       "<Figure size 640x480 with 1 Axes>"
      ]
     },
     "metadata": {},
     "output_type": "display_data"
    }
   ],
   "source": [
    "sns.distplot(sample_mean)"
   ]
  },
  {
   "cell_type": "code",
   "execution_count": 113,
   "id": "0ce9213e",
   "metadata": {},
   "outputs": [],
   "source": [
    "sample_mean=[]\n",
    "for i in range(1,100):\n",
    "    sample=np.random.choice(population,size=size)\n",
    "    sample_mean.append(np.mean(sample))"
   ]
  },
  {
   "cell_type": "code",
   "execution_count": 114,
   "id": "d6271ada",
   "metadata": {
    "scrolled": false
   },
   "outputs": [
    {
     "name": "stderr",
     "output_type": "stream",
     "text": [
      "C:\\Users\\manis\\AppData\\Local\\Temp\\ipykernel_53148\\2059214919.py:1: UserWarning: \n",
      "\n",
      "`distplot` is a deprecated function and will be removed in seaborn v0.14.0.\n",
      "\n",
      "Please adapt your code to use either `displot` (a figure-level function with\n",
      "similar flexibility) or `histplot` (an axes-level function for histograms).\n",
      "\n",
      "For a guide to updating your code to use the new functions, please see\n",
      "https://gist.github.com/mwaskom/de44147ed2974457ad6372750bbe5751\n",
      "\n",
      "  sns.distplot(sample_mean,kde=True,color=\"green\")\n"
     ]
    },
    {
     "data": {
      "text/plain": [
       "<Axes: ylabel='Density'>"
      ]
     },
     "execution_count": 114,
     "metadata": {},
     "output_type": "execute_result"
    },
    {
     "data": {
      "image/png": "[encoded data removed]",
      "text/plain": [
       "<Figure size 640x480 with 1 Axes>"
      ]
     },
     "metadata": {},
     "output_type": "display_data"
    }
   ],
   "source": [
    "sns.distplot(sample_mean,kde=True,color=\"green\")"
   ]
  },
  {
   "cell_type": "code",
   "execution_count": 115,
   "id": "09ecd7be",
   "metadata": {},
   "outputs": [],
   "source": [
    "sample_mean=[]\n",
    "for i in range(1,1000):\n",
    "    sample=np.random.choice(population,size=size)\n",
    "    sample_mean.append(np.mean(sample))"
   ]
  },
  {
   "cell_type": "code",
   "execution_count": 116,
   "id": "163cab6d",
   "metadata": {},
   "outputs": [
    {
     "name": "stderr",
     "output_type": "stream",
     "text": [
      "C:\\Users\\manis\\AppData\\Local\\Temp\\ipykernel_53148\\514007480.py:1: UserWarning: \n",
      "\n",
      "`distplot` is a deprecated function and will be removed in seaborn v0.14.0.\n",
      "\n",
      "Please adapt your code to use either `displot` (a figure-level function with\n",
      "similar flexibility) or `histplot` (an axes-level function for histograms).\n",
      "\n",
      "For a guide to updating your code to use the new functions, please see\n",
      "https://gist.github.com/mwaskom/de44147ed2974457ad6372750bbe5751\n",
      "\n",
      "  sns.distplot(sample_mean)\n"
     ]
    },
    {
     "data": {
      "text/plain": [
       "<Axes: ylabel='Density'>"
      ]
     },
     "execution_count": 116,
     "metadata": {},
     "output_type": "execute_result"
    },
    {
     "data": {
      "image/png": "[encoded data removed]",
      "text/plain": [
       "<Figure size 640x480 with 1 Axes>"
      ]
     },
     "metadata": {},
     "output_type": "display_data"
    }
   ],
   "source": [
    "sns.distplot(sample_mean)"
   ]
  },
  {
   "cell_type": "markdown",
   "id": "32f3d85d",
   "metadata": {},
   "source": [
    "## Confidence interval and margin of error"
   ]
  },
  {
   "cell_type": "code",
   "execution_count": 117,
   "id": "87e195e9",
   "metadata": {},
   "outputs": [],
   "source": [
    "population = np.random.randint(10,20,50)"
   ]
  },
  {
   "cell_type": "code",
   "execution_count": 118,
   "id": "4b173d86",
   "metadata": {},
   "outputs": [
    {
     "data": {
      "text/plain": [
       "array([10, 16, 19, 13, 17, 13, 17, 13, 12, 15, 10, 13, 10, 12, 14, 19, 11,\n",
       "       14, 15, 13, 16, 12, 16, 13, 17, 17, 14, 15, 19, 17, 13, 18, 18, 14,\n",
       "       11, 16, 17, 18, 18, 12, 15, 10, 18, 19, 18, 18, 15, 13, 17, 15])"
      ]
     },
     "execution_count": 118,
     "metadata": {},
     "output_type": "execute_result"
    }
   ],
   "source": [
    "population"
   ]
  },
  {
   "cell_type": "code",
   "execution_count": 119,
   "id": "3d654d98",
   "metadata": {},
   "outputs": [],
   "source": [
    "sample1=np.random.choice(population,20)\n",
    "sample2=np.random.choice(population,20)\n",
    "sample3=np.random.choice(population,20)\n",
    "sample4=np.random.choice(population,20)"
   ]
  },
  {
   "cell_type": "code",
   "execution_count": 120,
   "id": "990827e6",
   "metadata": {},
   "outputs": [],
   "source": [
    "mean_of_samples=[]\n",
    "\n",
    "all_sample=[sample1,sample2,sample3,sample4]\n",
    "\n",
    "for sample in all_sample:\n",
    "    mean_of_samples.append(np.mean(sample))"
   ]
  },
  {
   "cell_type": "code",
   "execution_count": 121,
   "id": "64dfc16a",
   "metadata": {},
   "outputs": [],
   "source": [
    "import scipy.stats as stats"
   ]
  },
  {
   "cell_type": "code",
   "execution_count": 122,
   "id": "f7eda3c3",
   "metadata": {},
   "outputs": [],
   "source": [
    "#stats.norm.ppf(q=0.95)\n",
    "#stats.norm.ppf(q=0.975)\n",
    "#stats.norm.ppf(q=0.99)"
   ]
  },
  {
   "cell_type": "code",
   "execution_count": 123,
   "id": "40d1ea79",
   "metadata": {},
   "outputs": [],
   "source": [
    "z_critical = stats.norm.ppf(q=0.975)"
   ]
  },
  {
   "cell_type": "code",
   "execution_count": 124,
   "id": "28fba9c9",
   "metadata": {},
   "outputs": [],
   "source": [
    "t_critical = stats.t.ppf(q=0.975,df=24)"
   ]
  },
  {
   "cell_type": "code",
   "execution_count": 125,
   "id": "1b4a3979",
   "metadata": {},
   "outputs": [],
   "source": [
    "margin_of_error= z_critical * (np.std(mean_of_samples)/np.sqrt(20))"
   ]
  },
  {
   "cell_type": "code",
   "execution_count": 126,
   "id": "542996cf",
   "metadata": {},
   "outputs": [
    {
     "data": {
      "text/plain": [
       "14.54897463210483"
      ]
     },
     "execution_count": 126,
     "metadata": {},
     "output_type": "execute_result"
    }
   ],
   "source": [
    "np.mean(mean_of_samples)- margin_of_error"
   ]
  },
  {
   "cell_type": "code",
   "execution_count": 127,
   "id": "c0e58744",
   "metadata": {},
   "outputs": [
    {
     "data": {
      "text/plain": [
       "14.851025367895168"
      ]
     },
     "execution_count": 127,
     "metadata": {},
     "output_type": "execute_result"
    }
   ],
   "source": [
    "np.mean(mean_of_samples) + margin_of_error"
   ]
  },
  {
   "cell_type": "markdown",
   "id": "3d6ebddd",
   "metadata": {},
   "source": [
    "# Z-test"
   ]
  },
  {
   "cell_type": "code",
   "execution_count": 169,
   "id": "4c286b0c",
   "metadata": {},
   "outputs": [],
   "source": [
    "from numpy.random import randn\n",
    "population = randn(100)"
   ]
  },
  {
   "cell_type": "code",
   "execution_count": 170,
   "id": "2e25bb18",
   "metadata": {},
   "outputs": [
    {
     "data": {
      "text/plain": [
       "array([-0.21420672,  0.86665877, -0.61581008, -0.23469989, -0.50335645,\n",
       "       -0.34873033, -1.39078975, -0.346455  ,  0.34923606, -0.39380637,\n",
       "       -0.55341335,  1.28434464, -0.29849148,  0.54836257, -0.96611757,\n",
       "       -1.02173733,  0.72224807, -1.29630179, -2.28249429, -2.77451921,\n",
       "        1.17288196,  0.73148572,  1.72763003, -0.58639394,  1.52295311,\n",
       "       -1.9258678 ,  1.15748433,  2.40856909,  1.49827126,  0.40991256,\n",
       "       -1.30452271, -0.01150208, -1.08050009, -0.21337317,  1.10326557,\n",
       "        0.5483473 ,  1.23235108, -0.94190151, -0.52024983,  0.62661889,\n",
       "       -0.08209983,  1.80350514, -1.14439712,  0.73785073,  1.63014001,\n",
       "        0.43703558,  1.83152216, -1.28511765,  0.40696371, -0.95271684,\n",
       "       -0.7173182 , -0.77699847,  0.31855512,  0.72302397,  0.72991986,\n",
       "       -1.43918909,  1.29324826, -1.52477516, -0.23735261,  0.79261862,\n",
       "        0.22803435,  0.22036063, -0.24935866, -0.73466222, -0.14407187,\n",
       "        0.94453954, -1.04071549,  1.65404238, -0.95938457,  0.85424251,\n",
       "        0.03543548,  1.7963679 , -1.52849889,  1.70932153,  1.09169081,\n",
       "        1.01391039,  0.07327984, -1.54851801,  0.48405233,  0.42287148,\n",
       "        0.25397512, -0.09595729, -0.24143679, -0.52404258,  0.62138219,\n",
       "        0.14262999,  0.30928225, -0.07591032,  0.19057786, -0.03820804,\n",
       "        0.37903107, -0.33785196,  1.51894747,  0.28221443,  0.29253561,\n",
       "        1.8407949 , -0.09965402, -0.63013644,  0.83449967, -1.02146688])"
      ]
     },
     "execution_count": 170,
     "metadata": {},
     "output_type": "execute_result"
    }
   ],
   "source": [
    "population"
   ]
  },
  {
   "cell_type": "code",
   "execution_count": 171,
   "id": "502a42ee",
   "metadata": {},
   "outputs": [
    {
     "name": "stderr",
     "output_type": "stream",
     "text": [
      "C:\\Users\\manis\\AppData\\Local\\Temp\\ipykernel_53148\\2958836585.py:1: UserWarning: \n",
      "\n",
      "`distplot` is a deprecated function and will be removed in seaborn v0.14.0.\n",
      "\n",
      "Please adapt your code to use either `displot` (a figure-level function with\n",
      "similar flexibility) or `histplot` (an axes-level function for histograms).\n",
      "\n",
      "For a guide to updating your code to use the new functions, please see\n",
      "https://gist.github.com/mwaskom/de44147ed2974457ad6372750bbe5751\n",
      "\n",
      "  sns.distplot(population)\n"
     ]
    },
    {
     "data": {
      "text/plain": [
       "<Axes: ylabel='Density'>"
      ]
     },
     "execution_count": 171,
     "metadata": {},
     "output_type": "execute_result"
    },
    {
     "data": {
      "image/png": "[encoded data removed]",
      "text/plain": [
       "<Figure size 640x480 with 1 Axes>"
      ]
     },
     "metadata": {},
     "output_type": "display_data"
    }
   ],
   "source": [
    "sns.distplot(population)"
   ]
  },
  {
   "cell_type": "code",
   "execution_count": 172,
   "id": "145de6d9",
   "metadata": {},
   "outputs": [
    {
     "name": "stdout",
     "output_type": "stream",
     "text": [
      "here's the mean of the population :0.0855394413641415,here's the std deviation 1.0191003101961522\n"
     ]
    }
   ],
   "source": [
    "print(f\"here's the mean of the population :{np.mean(population)},here's the std deviation {np.std(population)}\")"
   ]
  },
  {
   "cell_type": "code",
   "execution_count": 175,
   "id": "e81671de",
   "metadata": {},
   "outputs": [],
   "source": [
    "null_mean= 0.022"
   ]
  },
  {
   "cell_type": "code",
   "execution_count": 177,
   "id": "a231df75",
   "metadata": {},
   "outputs": [
    {
     "ename": "SyntaxError",
     "evalue": "invalid syntax (479726303.py, line 1)",
     "output_type": "error",
     "traceback": [
      "\u001b[1;36m  Cell \u001b[1;32mIn[177], line 1\u001b[1;36m\u001b[0m\n\u001b[1;33m    C.I=95%\u001b[0m\n\u001b[1;37m           ^\u001b[0m\n\u001b[1;31mSyntaxError\u001b[0m\u001b[1;31m:\u001b[0m invalid syntax\n"
     ]
    }
   ],
   "source": [
    "C.I=95%\n",
    "ALPHA=0.05(5%)"
   ]
  },
  {
   "cell_type": "code",
   "execution_count": 178,
   "id": "3820c74f",
   "metadata": {},
   "outputs": [],
   "source": [
    "p_value=0.05 #reject the null hypothesis\n",
    "ALPHA=0.5 # accept the null hypothesis"
   ]
  },
  {
   "cell_type": "code",
   "execution_count": 179,
   "id": "e6ca0357",
   "metadata": {},
   "outputs": [],
   "source": [
    "#p_value = 0.05\n",
    "ALPHA = 0.05"
   ]
  },
  {
   "cell_type": "code",
   "execution_count": 180,
   "id": "c2be2a1f",
   "metadata": {},
   "outputs": [],
   "source": [
    "from statsmodels.stats.weightstats import ztest\n",
    "z_score,p_value=ztest(population,value=null_mean,alternative='larger')"
   ]
  },
  {
   "cell_type": "code",
   "execution_count": 182,
   "id": "30cc7d0e",
   "metadata": {},
   "outputs": [
    {
     "data": {
      "text/plain": [
       "0.2675102742810936"
      ]
     },
     "execution_count": 182,
     "metadata": {},
     "output_type": "execute_result"
    }
   ],
   "source": [
    "p_value"
   ]
  },
  {
   "cell_type": "code",
   "execution_count": 181,
   "id": "0061a9b5",
   "metadata": {},
   "outputs": [
    {
     "name": "stdout",
     "output_type": "stream",
     "text": [
      "we are going to accept the null hypothesis\n"
     ]
    }
   ],
   "source": [
    "if (p_value<ALPHA):\n",
    "    print(\"reject the null hypothesis\")\n",
    "else:\n",
    "    print(\"we are going to accept the null hypothesis\")"
   ]
  },
  {
   "cell_type": "code",
   "execution_count": null,
   "id": "50927970",
   "metadata": {},
   "outputs": [],
   "source": []
  },
  {
   "cell_type": "code",
   "execution_count": null,
   "id": "6fb425f3",
   "metadata": {},
   "outputs": [],
   "source": []
  },
  {
   "cell_type": "code",
   "execution_count": null,
   "id": "509b0317",
   "metadata": {},
   "outputs": [],
   "source": []
  }
 ],
 "metadata": {
  "kernelspec": {
   "display_name": "Python 3 (ipykernel)",
   "language": "python",
   "name": "python3"
  },
  "language_info": {
   "codemirror_mode": {
    "name": "ipython",
    "version": 3
   },
   "file_extension": ".py",
   "mimetype": "text/x-python",
   "name": "python",
   "nbconvert_exporter": "python",
   "pygments_lexer": "ipython3",
   "version": "3.11.3"
  }
 },
 "nbformat": 4,
 "nbformat_minor": 5
}
